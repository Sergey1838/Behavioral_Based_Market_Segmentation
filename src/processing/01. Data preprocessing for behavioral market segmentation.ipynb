{
 "cells": [
  {
   "cell_type": "markdown",
   "metadata": {},
   "source": [
    "# 01. Data preprocessing for behavioral market segmentation"
   ]
  },
  {
   "cell_type": "markdown",
   "metadata": {},
   "source": [
    "### Before the beginning, I strongly recommend you to read the documents describing the data. They are located here: \"project_root/data/raw_data/\""
   ]
  },
  {
   "cell_type": "code",
   "execution_count": 1,
   "metadata": {},
   "outputs": [],
   "source": [
    "from IPython.core.interactiveshell import InteractiveShell\n",
    "InteractiveShell.ast_node_interactivity = \"all\"\n",
    "\n",
    "import pandas as pd\n",
    "import numpy as np"
   ]
  },
  {
   "cell_type": "markdown",
   "metadata": {},
   "source": [
    "For the purposes of extracting behavioral data, I need 1 sheet - \"DurData_June 24, 2011\", from the dataset."
   ]
  },
  {
   "cell_type": "code",
   "execution_count": 2,
   "metadata": {},
   "outputs": [],
   "source": [
    "transactions_df = pd.read_excel('../../data/raw_data/data.xlsx', sheet_name = \"DurData_June 24, 2011\")"
   ]
  },
  {
   "cell_type": "code",
   "execution_count": 3,
   "metadata": {},
   "outputs": [],
   "source": [
    "initial_data = transactions_df.copy()"
   ]
  },
  {
   "cell_type": "markdown",
   "metadata": {},
   "source": [
    "Some information about the data:"
   ]
  },
  {
   "cell_type": "code",
   "execution_count": 4,
   "metadata": {},
   "outputs": [
    {
     "data": {
      "text/plain": [
       "Household_ID                        0\n",
       "Transaction_NBR                     0\n",
       "Transaction_Total                   0\n",
       "Transaction_Date                    0\n",
       "Transaction_Location                0\n",
       "Online_Transaction                  0\n",
       "ORIGINAL_TICKET_NBR                 0\n",
       "Transaction_type                    0\n",
       "PRODUCT_ID                      41163\n",
       "Category_Description              517\n",
       "Sub_Category_NBR                    0\n",
       "Sub_Category_Description         3847\n",
       "Transaction_Type_Description       36\n",
       "Quantity                            0\n",
       "UNIT_PRICE                          0\n",
       "EXTENDED_PRICE                      0\n",
       "RETURN_IND                      13411\n",
       "Return_Location_If Any              0\n",
       "Age_H.Head                      20971\n",
       "CHILDERN_PRESENCE               91777\n",
       "Income                          20455\n",
       "GENDER_H.Head                       0\n",
       "Gender_Individual               14575\n",
       "MALE_CHID_AGE_0-2                   0\n",
       "MALE_CHID_AGE_3-5                   0\n",
       "MALE_CHID_AGE_6-10                  0\n",
       "MALE_CHID_AGE_11-15                 0\n",
       "MALE_CHID_AGE_16-17                 0\n",
       "FEMALE_CHID_AGE_0-2                 0\n",
       "FEMALE_CHID_AGE_3-5                 0\n",
       "FEMALE_CHID_AGE_6-10                0\n",
       "FEMALE_CHID_AGE_11-15               0\n",
       "FEMALE_CHID_AGE_16-17               0\n",
       "UNKNOWN_CHID_AGE_0-2                0\n",
       "UNKNOWN_CHID_AGE_3-5                0\n",
       "UNKNOWN_CHID_AGE_6-10               0\n",
       "UNKNOWN_CHID_AGE_11-15              0\n",
       "UNKNOWN_CHID_AGE_16-17              0\n",
       "dtype: int64"
      ]
     },
     "execution_count": 4,
     "metadata": {},
     "output_type": "execute_result"
    }
   ],
   "source": [
    "transactions_df.isna().sum()"
   ]
  },
  {
   "cell_type": "code",
   "execution_count": 5,
   "metadata": {
    "scrolled": false
   },
   "outputs": [
    {
     "data": {
      "text/html": [
       "<div>\n",
       "<style scoped>\n",
       "    .dataframe tbody tr th:only-of-type {\n",
       "        vertical-align: middle;\n",
       "    }\n",
       "\n",
       "    .dataframe tbody tr th {\n",
       "        vertical-align: top;\n",
       "    }\n",
       "\n",
       "    .dataframe thead th {\n",
       "        text-align: right;\n",
       "    }\n",
       "</style>\n",
       "<table border=\"1\" class=\"dataframe\">\n",
       "  <thead>\n",
       "    <tr style=\"text-align: right;\">\n",
       "      <th></th>\n",
       "      <th>Household_ID</th>\n",
       "      <th>Transaction_NBR</th>\n",
       "      <th>Transaction_Total</th>\n",
       "      <th>Transaction_Date</th>\n",
       "      <th>Transaction_Location</th>\n",
       "      <th>Online_Transaction</th>\n",
       "      <th>ORIGINAL_TICKET_NBR</th>\n",
       "      <th>Transaction_type</th>\n",
       "      <th>PRODUCT_ID</th>\n",
       "      <th>Category_Description</th>\n",
       "      <th>...</th>\n",
       "      <th>FEMALE_CHID_AGE_0-2</th>\n",
       "      <th>FEMALE_CHID_AGE_3-5</th>\n",
       "      <th>FEMALE_CHID_AGE_6-10</th>\n",
       "      <th>FEMALE_CHID_AGE_11-15</th>\n",
       "      <th>FEMALE_CHID_AGE_16-17</th>\n",
       "      <th>UNKNOWN_CHID_AGE_0-2</th>\n",
       "      <th>UNKNOWN_CHID_AGE_3-5</th>\n",
       "      <th>UNKNOWN_CHID_AGE_6-10</th>\n",
       "      <th>UNKNOWN_CHID_AGE_11-15</th>\n",
       "      <th>UNKNOWN_CHID_AGE_16-17</th>\n",
       "    </tr>\n",
       "  </thead>\n",
       "  <tbody>\n",
       "    <tr>\n",
       "      <th>0</th>\n",
       "      <td>100003544</td>\n",
       "      <td>1</td>\n",
       "      <td>1</td>\n",
       "      <td>06JUN2003:00:00:00</td>\n",
       "      <td>537</td>\n",
       "      <td>0</td>\n",
       "      <td>53703232083</td>\n",
       "      <td>1</td>\n",
       "      <td>879852.0</td>\n",
       "      <td>VIDEO HDWR</td>\n",
       "      <td>...</td>\n",
       "      <td>0</td>\n",
       "      <td>0</td>\n",
       "      <td>0</td>\n",
       "      <td>0</td>\n",
       "      <td>0</td>\n",
       "      <td>0</td>\n",
       "      <td>0</td>\n",
       "      <td>0</td>\n",
       "      <td>0</td>\n",
       "      <td>0</td>\n",
       "    </tr>\n",
       "    <tr>\n",
       "      <th>1</th>\n",
       "      <td>100012312</td>\n",
       "      <td>1</td>\n",
       "      <td>2</td>\n",
       "      <td>09JAN2001:00:00:00</td>\n",
       "      <td>841</td>\n",
       "      <td>0</td>\n",
       "      <td>84102381410</td>\n",
       "      <td>1</td>\n",
       "      <td>580994.0</td>\n",
       "      <td>TELEVISION</td>\n",
       "      <td>...</td>\n",
       "      <td>0</td>\n",
       "      <td>0</td>\n",
       "      <td>0</td>\n",
       "      <td>0</td>\n",
       "      <td>0</td>\n",
       "      <td>0</td>\n",
       "      <td>0</td>\n",
       "      <td>0</td>\n",
       "      <td>0</td>\n",
       "      <td>0</td>\n",
       "    </tr>\n",
       "    <tr>\n",
       "      <th>2</th>\n",
       "      <td>100012312</td>\n",
       "      <td>2</td>\n",
       "      <td>2</td>\n",
       "      <td>09JAN2001:00:00:00</td>\n",
       "      <td>841</td>\n",
       "      <td>0</td>\n",
       "      <td>84102381410</td>\n",
       "      <td>1</td>\n",
       "      <td>720025.0</td>\n",
       "      <td>P*S*T</td>\n",
       "      <td>...</td>\n",
       "      <td>0</td>\n",
       "      <td>0</td>\n",
       "      <td>0</td>\n",
       "      <td>0</td>\n",
       "      <td>0</td>\n",
       "      <td>0</td>\n",
       "      <td>0</td>\n",
       "      <td>0</td>\n",
       "      <td>0</td>\n",
       "      <td>0</td>\n",
       "    </tr>\n",
       "    <tr>\n",
       "      <th>3</th>\n",
       "      <td>100016237</td>\n",
       "      <td>1</td>\n",
       "      <td>1</td>\n",
       "      <td>22JAN2001:00:00:00</td>\n",
       "      <td>949</td>\n",
       "      <td>0</td>\n",
       "      <td>94904161842</td>\n",
       "      <td>1</td>\n",
       "      <td>575635.0</td>\n",
       "      <td>P*S*T</td>\n",
       "      <td>...</td>\n",
       "      <td>0</td>\n",
       "      <td>0</td>\n",
       "      <td>0</td>\n",
       "      <td>0</td>\n",
       "      <td>0</td>\n",
       "      <td>0</td>\n",
       "      <td>0</td>\n",
       "      <td>0</td>\n",
       "      <td>0</td>\n",
       "      <td>0</td>\n",
       "    </tr>\n",
       "    <tr>\n",
       "      <th>4</th>\n",
       "      <td>100022945</td>\n",
       "      <td>1</td>\n",
       "      <td>11</td>\n",
       "      <td>30JAN2001:00:00:00</td>\n",
       "      <td>521</td>\n",
       "      <td>0</td>\n",
       "      <td>52101921224</td>\n",
       "      <td>1</td>\n",
       "      <td>545443.0</td>\n",
       "      <td>MOBILE</td>\n",
       "      <td>...</td>\n",
       "      <td>0</td>\n",
       "      <td>0</td>\n",
       "      <td>0</td>\n",
       "      <td>0</td>\n",
       "      <td>1</td>\n",
       "      <td>0</td>\n",
       "      <td>0</td>\n",
       "      <td>0</td>\n",
       "      <td>0</td>\n",
       "      <td>0</td>\n",
       "    </tr>\n",
       "  </tbody>\n",
       "</table>\n",
       "<p>5 rows × 38 columns</p>\n",
       "</div>"
      ],
      "text/plain": [
       "   Household_ID  Transaction_NBR  Transaction_Total    Transaction_Date  \\\n",
       "0     100003544                1                  1  06JUN2003:00:00:00   \n",
       "1     100012312                1                  2  09JAN2001:00:00:00   \n",
       "2     100012312                2                  2  09JAN2001:00:00:00   \n",
       "3     100016237                1                  1  22JAN2001:00:00:00   \n",
       "4     100022945                1                 11  30JAN2001:00:00:00   \n",
       "\n",
       "   Transaction_Location  Online_Transaction  ORIGINAL_TICKET_NBR  \\\n",
       "0                   537                   0          53703232083   \n",
       "1                   841                   0          84102381410   \n",
       "2                   841                   0          84102381410   \n",
       "3                   949                   0          94904161842   \n",
       "4                   521                   0          52101921224   \n",
       "\n",
       "   Transaction_type  PRODUCT_ID Category_Description  ...  \\\n",
       "0                 1    879852.0           VIDEO HDWR  ...   \n",
       "1                 1    580994.0           TELEVISION  ...   \n",
       "2                 1    720025.0                P*S*T  ...   \n",
       "3                 1    575635.0                P*S*T  ...   \n",
       "4                 1    545443.0               MOBILE  ...   \n",
       "\n",
       "   FEMALE_CHID_AGE_0-2 FEMALE_CHID_AGE_3-5 FEMALE_CHID_AGE_6-10  \\\n",
       "0                    0                   0                    0   \n",
       "1                    0                   0                    0   \n",
       "2                    0                   0                    0   \n",
       "3                    0                   0                    0   \n",
       "4                    0                   0                    0   \n",
       "\n",
       "   FEMALE_CHID_AGE_11-15  FEMALE_CHID_AGE_16-17  UNKNOWN_CHID_AGE_0-2  \\\n",
       "0                      0                      0                     0   \n",
       "1                      0                      0                     0   \n",
       "2                      0                      0                     0   \n",
       "3                      0                      0                     0   \n",
       "4                      0                      1                     0   \n",
       "\n",
       "  UNKNOWN_CHID_AGE_3-5  UNKNOWN_CHID_AGE_6-10  UNKNOWN_CHID_AGE_11-15  \\\n",
       "0                    0                      0                       0   \n",
       "1                    0                      0                       0   \n",
       "2                    0                      0                       0   \n",
       "3                    0                      0                       0   \n",
       "4                    0                      0                       0   \n",
       "\n",
       "  UNKNOWN_CHID_AGE_16-17  \n",
       "0                      0  \n",
       "1                      0  \n",
       "2                      0  \n",
       "3                      0  \n",
       "4                      0  \n",
       "\n",
       "[5 rows x 38 columns]"
      ]
     },
     "execution_count": 5,
     "metadata": {},
     "output_type": "execute_result"
    }
   ],
   "source": [
    "transactions_df.head()"
   ]
  },
  {
   "cell_type": "markdown",
   "metadata": {},
   "source": [
    "---"
   ]
  },
  {
   "cell_type": "markdown",
   "metadata": {},
   "source": [
    "I leave only 'buy' transactions, which have not been returned."
   ]
  },
  {
   "cell_type": "code",
   "execution_count": 6,
   "metadata": {},
   "outputs": [],
   "source": [
    "transactions_df = transactions_df[transactions_df.Transaction_type == 1]"
   ]
  },
  {
   "cell_type": "code",
   "execution_count": 7,
   "metadata": {},
   "outputs": [],
   "source": [
    "transactions_df = transactions_df[transactions_df.RETURN_IND == 'N']"
   ]
  },
  {
   "cell_type": "markdown",
   "metadata": {},
   "source": [
    "Leave only relevant columns for analysis: \"Household_ID\" - to indentify the customer. \"Category_Description\", 'Quantity' and \"EXTENDED_PRICE\" - UNIT_PRICE * Quantity."
   ]
  },
  {
   "cell_type": "code",
   "execution_count": 8,
   "metadata": {},
   "outputs": [],
   "source": [
    "transactions_df = transactions_df[['Household_ID', 'Category_Description', 'Quantity', 'EXTENDED_PRICE']]"
   ]
  },
  {
   "cell_type": "markdown",
   "metadata": {},
   "source": [
    "Leaving only transactions with defined category."
   ]
  },
  {
   "cell_type": "code",
   "execution_count": 9,
   "metadata": {
    "scrolled": false
   },
   "outputs": [],
   "source": [
    "transactions_df = transactions_df[transactions_df.Category_Description.notna()]"
   ]
  },
  {
   "cell_type": "markdown",
   "metadata": {},
   "source": [
    "To find how many items were bought and how much money were spent in each particular category I group the data, by Household_ID and Category_Description and use \"sum\" aggregate function:"
   ]
  },
  {
   "cell_type": "code",
   "execution_count": 10,
   "metadata": {
    "scrolled": true
   },
   "outputs": [],
   "source": [
    "transactions_df = transactions_df.groupby(['Household_ID','Category_Description'], as_index = False).sum()"
   ]
  },
  {
   "cell_type": "markdown",
   "metadata": {},
   "source": [
    "Now each row in data frame, represents: Houshold_id, category, total number of items bought in this category,total amount of money spent in this category."
   ]
  },
  {
   "cell_type": "code",
   "execution_count": 11,
   "metadata": {},
   "outputs": [
    {
     "data": {
      "text/html": [
       "<div>\n",
       "<style scoped>\n",
       "    .dataframe tbody tr th:only-of-type {\n",
       "        vertical-align: middle;\n",
       "    }\n",
       "\n",
       "    .dataframe tbody tr th {\n",
       "        vertical-align: top;\n",
       "    }\n",
       "\n",
       "    .dataframe thead th {\n",
       "        text-align: right;\n",
       "    }\n",
       "</style>\n",
       "<table border=\"1\" class=\"dataframe\">\n",
       "  <thead>\n",
       "    <tr style=\"text-align: right;\">\n",
       "      <th></th>\n",
       "      <th>Household_ID</th>\n",
       "      <th>Category_Description</th>\n",
       "      <th>Quantity</th>\n",
       "      <th>EXTENDED_PRICE</th>\n",
       "    </tr>\n",
       "  </thead>\n",
       "  <tbody>\n",
       "    <tr>\n",
       "      <th>0</th>\n",
       "      <td>100003544</td>\n",
       "      <td>VIDEO HDWR</td>\n",
       "      <td>1</td>\n",
       "      <td>99.97</td>\n",
       "    </tr>\n",
       "    <tr>\n",
       "      <th>1</th>\n",
       "      <td>100012312</td>\n",
       "      <td>P*S*T</td>\n",
       "      <td>1</td>\n",
       "      <td>19.99</td>\n",
       "    </tr>\n",
       "    <tr>\n",
       "      <th>2</th>\n",
       "      <td>100012312</td>\n",
       "      <td>TELEVISION</td>\n",
       "      <td>1</td>\n",
       "      <td>9.99</td>\n",
       "    </tr>\n",
       "    <tr>\n",
       "      <th>3</th>\n",
       "      <td>100016237</td>\n",
       "      <td>P*S*T</td>\n",
       "      <td>1</td>\n",
       "      <td>89.99</td>\n",
       "    </tr>\n",
       "    <tr>\n",
       "      <th>4</th>\n",
       "      <td>100022945</td>\n",
       "      <td>IMAGING</td>\n",
       "      <td>1</td>\n",
       "      <td>259.99</td>\n",
       "    </tr>\n",
       "  </tbody>\n",
       "</table>\n",
       "</div>"
      ],
      "text/plain": [
       "   Household_ID Category_Description  Quantity  EXTENDED_PRICE\n",
       "0     100003544           VIDEO HDWR         1           99.97\n",
       "1     100012312                P*S*T         1           19.99\n",
       "2     100012312           TELEVISION         1            9.99\n",
       "3     100016237                P*S*T         1           89.99\n",
       "4     100022945              IMAGING         1          259.99"
      ]
     },
     "execution_count": 11,
     "metadata": {},
     "output_type": "execute_result"
    }
   ],
   "source": [
    "transactions_df.head()"
   ]
  },
  {
   "cell_type": "markdown",
   "metadata": {},
   "source": [
    "### For market segmantation we need a new data frame, where each row will have housholdId, number of items bought in each category and amount of money spent in each category. "
   ]
  },
  {
   "cell_type": "markdown",
   "metadata": {},
   "source": [
    "I will use *pivot_table* API once for a quantity, second time for expenditures. Then I will merge the result."
   ]
  },
  {
   "cell_type": "code",
   "execution_count": 12,
   "metadata": {},
   "outputs": [],
   "source": [
    "transactions_df_q = transactions_df.pivot_table(index = 'Household_ID', columns = 'Category_Description',\\\n",
    "                            values = 'Quantity', aggfunc = np.sum, fill_value = 0, dropna = False)\\\n",
    "                    .reset_index().rename_axis(None, axis=1)"
   ]
  },
  {
   "cell_type": "code",
   "execution_count": 13,
   "metadata": {},
   "outputs": [],
   "source": [
    "transactions_df_q.set_index(keys = 'Household_ID', inplace = True)"
   ]
  },
  {
   "cell_type": "code",
   "execution_count": 14,
   "metadata": {},
   "outputs": [],
   "source": [
    "transactions_df_q.columns = transactions_df_q.columns + '_QNT'"
   ]
  },
  {
   "cell_type": "markdown",
   "metadata": {},
   "source": [
    "Below, you can see the result of the code above. That is exactly what I needed."
   ]
  },
  {
   "cell_type": "code",
   "execution_count": 15,
   "metadata": {},
   "outputs": [
    {
     "data": {
      "text/html": [
       "<div>\n",
       "<style scoped>\n",
       "    .dataframe tbody tr th:only-of-type {\n",
       "        vertical-align: middle;\n",
       "    }\n",
       "\n",
       "    .dataframe tbody tr th {\n",
       "        vertical-align: top;\n",
       "    }\n",
       "\n",
       "    .dataframe thead th {\n",
       "        text-align: right;\n",
       "    }\n",
       "</style>\n",
       "<table border=\"1\" class=\"dataframe\">\n",
       "  <thead>\n",
       "    <tr style=\"text-align: right;\">\n",
       "      <th></th>\n",
       "      <th>AUDIO_QNT</th>\n",
       "      <th>DVS_QNT</th>\n",
       "      <th>EXPRESS_QNT</th>\n",
       "      <th>GIFT CARDS_QNT</th>\n",
       "      <th>HOME INS_QNT</th>\n",
       "      <th>IMAGING_QNT</th>\n",
       "      <th>INTABGIBLE_QNT</th>\n",
       "      <th>MAJORS_QNT</th>\n",
       "      <th>MOBILE_QNT</th>\n",
       "      <th>MUSIC_QNT</th>\n",
       "      <th>OTHER_QNT</th>\n",
       "      <th>P*S*T_QNT</th>\n",
       "      <th>PC HDWR_QNT</th>\n",
       "      <th>TELEVISION_QNT</th>\n",
       "      <th>VIDEO HDWR_QNT</th>\n",
       "      <th>WIRELESS_QNT</th>\n",
       "    </tr>\n",
       "    <tr>\n",
       "      <th>Household_ID</th>\n",
       "      <th></th>\n",
       "      <th></th>\n",
       "      <th></th>\n",
       "      <th></th>\n",
       "      <th></th>\n",
       "      <th></th>\n",
       "      <th></th>\n",
       "      <th></th>\n",
       "      <th></th>\n",
       "      <th></th>\n",
       "      <th></th>\n",
       "      <th></th>\n",
       "      <th></th>\n",
       "      <th></th>\n",
       "      <th></th>\n",
       "      <th></th>\n",
       "    </tr>\n",
       "  </thead>\n",
       "  <tbody>\n",
       "    <tr>\n",
       "      <th>100003544</th>\n",
       "      <td>0</td>\n",
       "      <td>0</td>\n",
       "      <td>0</td>\n",
       "      <td>0</td>\n",
       "      <td>0</td>\n",
       "      <td>0</td>\n",
       "      <td>0</td>\n",
       "      <td>0</td>\n",
       "      <td>0</td>\n",
       "      <td>0</td>\n",
       "      <td>0</td>\n",
       "      <td>0</td>\n",
       "      <td>0</td>\n",
       "      <td>0</td>\n",
       "      <td>1</td>\n",
       "      <td>0</td>\n",
       "    </tr>\n",
       "    <tr>\n",
       "      <th>100012312</th>\n",
       "      <td>0</td>\n",
       "      <td>0</td>\n",
       "      <td>0</td>\n",
       "      <td>0</td>\n",
       "      <td>0</td>\n",
       "      <td>0</td>\n",
       "      <td>0</td>\n",
       "      <td>0</td>\n",
       "      <td>0</td>\n",
       "      <td>0</td>\n",
       "      <td>0</td>\n",
       "      <td>1</td>\n",
       "      <td>0</td>\n",
       "      <td>1</td>\n",
       "      <td>0</td>\n",
       "      <td>0</td>\n",
       "    </tr>\n",
       "    <tr>\n",
       "      <th>100016237</th>\n",
       "      <td>0</td>\n",
       "      <td>0</td>\n",
       "      <td>0</td>\n",
       "      <td>0</td>\n",
       "      <td>0</td>\n",
       "      <td>0</td>\n",
       "      <td>0</td>\n",
       "      <td>0</td>\n",
       "      <td>0</td>\n",
       "      <td>0</td>\n",
       "      <td>0</td>\n",
       "      <td>1</td>\n",
       "      <td>0</td>\n",
       "      <td>0</td>\n",
       "      <td>0</td>\n",
       "      <td>0</td>\n",
       "    </tr>\n",
       "    <tr>\n",
       "      <th>100022945</th>\n",
       "      <td>0</td>\n",
       "      <td>0</td>\n",
       "      <td>0</td>\n",
       "      <td>0</td>\n",
       "      <td>0</td>\n",
       "      <td>1</td>\n",
       "      <td>0</td>\n",
       "      <td>0</td>\n",
       "      <td>2</td>\n",
       "      <td>0</td>\n",
       "      <td>0</td>\n",
       "      <td>5</td>\n",
       "      <td>1</td>\n",
       "      <td>0</td>\n",
       "      <td>0</td>\n",
       "      <td>0</td>\n",
       "    </tr>\n",
       "    <tr>\n",
       "      <th>100022976</th>\n",
       "      <td>1</td>\n",
       "      <td>0</td>\n",
       "      <td>0</td>\n",
       "      <td>0</td>\n",
       "      <td>0</td>\n",
       "      <td>0</td>\n",
       "      <td>0</td>\n",
       "      <td>0</td>\n",
       "      <td>0</td>\n",
       "      <td>0</td>\n",
       "      <td>0</td>\n",
       "      <td>0</td>\n",
       "      <td>0</td>\n",
       "      <td>0</td>\n",
       "      <td>1</td>\n",
       "      <td>0</td>\n",
       "    </tr>\n",
       "  </tbody>\n",
       "</table>\n",
       "</div>"
      ],
      "text/plain": [
       "              AUDIO_QNT  DVS_QNT  EXPRESS_QNT  GIFT CARDS_QNT  HOME INS_QNT  \\\n",
       "Household_ID                                                                  \n",
       "100003544             0        0            0               0             0   \n",
       "100012312             0        0            0               0             0   \n",
       "100016237             0        0            0               0             0   \n",
       "100022945             0        0            0               0             0   \n",
       "100022976             1        0            0               0             0   \n",
       "\n",
       "              IMAGING_QNT  INTABGIBLE_QNT  MAJORS_QNT  MOBILE_QNT  MUSIC_QNT  \\\n",
       "Household_ID                                                                   \n",
       "100003544               0               0           0           0          0   \n",
       "100012312               0               0           0           0          0   \n",
       "100016237               0               0           0           0          0   \n",
       "100022945               1               0           0           2          0   \n",
       "100022976               0               0           0           0          0   \n",
       "\n",
       "              OTHER_QNT  P*S*T_QNT  PC HDWR_QNT  TELEVISION_QNT  \\\n",
       "Household_ID                                                      \n",
       "100003544             0          0            0               0   \n",
       "100012312             0          1            0               1   \n",
       "100016237             0          1            0               0   \n",
       "100022945             0          5            1               0   \n",
       "100022976             0          0            0               0   \n",
       "\n",
       "              VIDEO HDWR_QNT  WIRELESS_QNT  \n",
       "Household_ID                                \n",
       "100003544                  1             0  \n",
       "100012312                  0             0  \n",
       "100016237                  0             0  \n",
       "100022945                  0             0  \n",
       "100022976                  1             0  "
      ]
     },
     "execution_count": 15,
     "metadata": {},
     "output_type": "execute_result"
    }
   ],
   "source": [
    "transactions_df_q.head()"
   ]
  },
  {
   "cell_type": "markdown",
   "metadata": {},
   "source": [
    "Now let's do it second time for expenditures."
   ]
  },
  {
   "cell_type": "code",
   "execution_count": 16,
   "metadata": {},
   "outputs": [],
   "source": [
    "transactions_df_e = transactions_df.pivot_table(index = 'Household_ID', columns = 'Category_Description',\\\n",
    "                            values = 'EXTENDED_PRICE', aggfunc = np.sum, fill_value = 0, dropna = False)\\\n",
    "                    .reset_index().rename_axis(None, axis=1)"
   ]
  },
  {
   "cell_type": "code",
   "execution_count": 17,
   "metadata": {},
   "outputs": [],
   "source": [
    "transactions_df_e.set_index(keys = 'Household_ID', inplace = True)"
   ]
  },
  {
   "cell_type": "code",
   "execution_count": 18,
   "metadata": {},
   "outputs": [],
   "source": [
    "transactions_df_e.columns = transactions_df_e.columns + '_EXP'"
   ]
  },
  {
   "cell_type": "code",
   "execution_count": 19,
   "metadata": {},
   "outputs": [
    {
     "data": {
      "text/html": [
       "<div>\n",
       "<style scoped>\n",
       "    .dataframe tbody tr th:only-of-type {\n",
       "        vertical-align: middle;\n",
       "    }\n",
       "\n",
       "    .dataframe tbody tr th {\n",
       "        vertical-align: top;\n",
       "    }\n",
       "\n",
       "    .dataframe thead th {\n",
       "        text-align: right;\n",
       "    }\n",
       "</style>\n",
       "<table border=\"1\" class=\"dataframe\">\n",
       "  <thead>\n",
       "    <tr style=\"text-align: right;\">\n",
       "      <th></th>\n",
       "      <th>AUDIO_EXP</th>\n",
       "      <th>DVS_EXP</th>\n",
       "      <th>EXPRESS_EXP</th>\n",
       "      <th>GIFT CARDS_EXP</th>\n",
       "      <th>HOME INS_EXP</th>\n",
       "      <th>IMAGING_EXP</th>\n",
       "      <th>INTABGIBLE_EXP</th>\n",
       "      <th>MAJORS_EXP</th>\n",
       "      <th>MOBILE_EXP</th>\n",
       "      <th>MUSIC_EXP</th>\n",
       "      <th>OTHER_EXP</th>\n",
       "      <th>P*S*T_EXP</th>\n",
       "      <th>PC HDWR_EXP</th>\n",
       "      <th>TELEVISION_EXP</th>\n",
       "      <th>VIDEO HDWR_EXP</th>\n",
       "      <th>WIRELESS_EXP</th>\n",
       "    </tr>\n",
       "    <tr>\n",
       "      <th>Household_ID</th>\n",
       "      <th></th>\n",
       "      <th></th>\n",
       "      <th></th>\n",
       "      <th></th>\n",
       "      <th></th>\n",
       "      <th></th>\n",
       "      <th></th>\n",
       "      <th></th>\n",
       "      <th></th>\n",
       "      <th></th>\n",
       "      <th></th>\n",
       "      <th></th>\n",
       "      <th></th>\n",
       "      <th></th>\n",
       "      <th></th>\n",
       "      <th></th>\n",
       "    </tr>\n",
       "  </thead>\n",
       "  <tbody>\n",
       "    <tr>\n",
       "      <th>100003544</th>\n",
       "      <td>0.00</td>\n",
       "      <td>0.0</td>\n",
       "      <td>0.0</td>\n",
       "      <td>0</td>\n",
       "      <td>0.0</td>\n",
       "      <td>0.00</td>\n",
       "      <td>0.0</td>\n",
       "      <td>0.0</td>\n",
       "      <td>0.00</td>\n",
       "      <td>0.0</td>\n",
       "      <td>0.0</td>\n",
       "      <td>0.00</td>\n",
       "      <td>0.00</td>\n",
       "      <td>0.00</td>\n",
       "      <td>99.97</td>\n",
       "      <td>0.0</td>\n",
       "    </tr>\n",
       "    <tr>\n",
       "      <th>100012312</th>\n",
       "      <td>0.00</td>\n",
       "      <td>0.0</td>\n",
       "      <td>0.0</td>\n",
       "      <td>0</td>\n",
       "      <td>0.0</td>\n",
       "      <td>0.00</td>\n",
       "      <td>0.0</td>\n",
       "      <td>0.0</td>\n",
       "      <td>0.00</td>\n",
       "      <td>0.0</td>\n",
       "      <td>0.0</td>\n",
       "      <td>19.99</td>\n",
       "      <td>0.00</td>\n",
       "      <td>9.99</td>\n",
       "      <td>0.00</td>\n",
       "      <td>0.0</td>\n",
       "    </tr>\n",
       "    <tr>\n",
       "      <th>100016237</th>\n",
       "      <td>0.00</td>\n",
       "      <td>0.0</td>\n",
       "      <td>0.0</td>\n",
       "      <td>0</td>\n",
       "      <td>0.0</td>\n",
       "      <td>0.00</td>\n",
       "      <td>0.0</td>\n",
       "      <td>0.0</td>\n",
       "      <td>0.00</td>\n",
       "      <td>0.0</td>\n",
       "      <td>0.0</td>\n",
       "      <td>89.99</td>\n",
       "      <td>0.00</td>\n",
       "      <td>0.00</td>\n",
       "      <td>0.00</td>\n",
       "      <td>0.0</td>\n",
       "    </tr>\n",
       "    <tr>\n",
       "      <th>100022945</th>\n",
       "      <td>0.00</td>\n",
       "      <td>0.0</td>\n",
       "      <td>0.0</td>\n",
       "      <td>0</td>\n",
       "      <td>0.0</td>\n",
       "      <td>259.99</td>\n",
       "      <td>0.0</td>\n",
       "      <td>0.0</td>\n",
       "      <td>24.98</td>\n",
       "      <td>0.0</td>\n",
       "      <td>0.0</td>\n",
       "      <td>193.95</td>\n",
       "      <td>149.99</td>\n",
       "      <td>0.00</td>\n",
       "      <td>0.00</td>\n",
       "      <td>0.0</td>\n",
       "    </tr>\n",
       "    <tr>\n",
       "      <th>100022976</th>\n",
       "      <td>599.99</td>\n",
       "      <td>0.0</td>\n",
       "      <td>0.0</td>\n",
       "      <td>0</td>\n",
       "      <td>0.0</td>\n",
       "      <td>0.00</td>\n",
       "      <td>0.0</td>\n",
       "      <td>0.0</td>\n",
       "      <td>0.00</td>\n",
       "      <td>0.0</td>\n",
       "      <td>0.0</td>\n",
       "      <td>0.00</td>\n",
       "      <td>0.00</td>\n",
       "      <td>0.00</td>\n",
       "      <td>249.99</td>\n",
       "      <td>0.0</td>\n",
       "    </tr>\n",
       "  </tbody>\n",
       "</table>\n",
       "</div>"
      ],
      "text/plain": [
       "              AUDIO_EXP  DVS_EXP  EXPRESS_EXP  GIFT CARDS_EXP  HOME INS_EXP  \\\n",
       "Household_ID                                                                  \n",
       "100003544          0.00      0.0          0.0               0           0.0   \n",
       "100012312          0.00      0.0          0.0               0           0.0   \n",
       "100016237          0.00      0.0          0.0               0           0.0   \n",
       "100022945          0.00      0.0          0.0               0           0.0   \n",
       "100022976        599.99      0.0          0.0               0           0.0   \n",
       "\n",
       "              IMAGING_EXP  INTABGIBLE_EXP  MAJORS_EXP  MOBILE_EXP  MUSIC_EXP  \\\n",
       "Household_ID                                                                   \n",
       "100003544            0.00             0.0         0.0        0.00        0.0   \n",
       "100012312            0.00             0.0         0.0        0.00        0.0   \n",
       "100016237            0.00             0.0         0.0        0.00        0.0   \n",
       "100022945          259.99             0.0         0.0       24.98        0.0   \n",
       "100022976            0.00             0.0         0.0        0.00        0.0   \n",
       "\n",
       "              OTHER_EXP  P*S*T_EXP  PC HDWR_EXP  TELEVISION_EXP  \\\n",
       "Household_ID                                                      \n",
       "100003544           0.0       0.00         0.00            0.00   \n",
       "100012312           0.0      19.99         0.00            9.99   \n",
       "100016237           0.0      89.99         0.00            0.00   \n",
       "100022945           0.0     193.95       149.99            0.00   \n",
       "100022976           0.0       0.00         0.00            0.00   \n",
       "\n",
       "              VIDEO HDWR_EXP  WIRELESS_EXP  \n",
       "Household_ID                                \n",
       "100003544              99.97           0.0  \n",
       "100012312               0.00           0.0  \n",
       "100016237               0.00           0.0  \n",
       "100022945               0.00           0.0  \n",
       "100022976             249.99           0.0  "
      ]
     },
     "execution_count": 19,
     "metadata": {},
     "output_type": "execute_result"
    }
   ],
   "source": [
    "transactions_df_e.head()"
   ]
  },
  {
   "cell_type": "markdown",
   "metadata": {},
   "source": [
    "Merging everything in one data frame."
   ]
  },
  {
   "cell_type": "code",
   "execution_count": 20,
   "metadata": {},
   "outputs": [],
   "source": [
    "behavioral_df = transactions_df_q.merge(transactions_df_e, left_index = True, right_index = True)"
   ]
  },
  {
   "cell_type": "markdown",
   "metadata": {},
   "source": [
    "Check the consistency of data reshaping outcome and the initial data."
   ]
  },
  {
   "cell_type": "code",
   "execution_count": 21,
   "metadata": {
    "scrolled": true
   },
   "outputs": [
    {
     "data": {
      "text/html": [
       "<div>\n",
       "<style scoped>\n",
       "    .dataframe tbody tr th:only-of-type {\n",
       "        vertical-align: middle;\n",
       "    }\n",
       "\n",
       "    .dataframe tbody tr th {\n",
       "        vertical-align: top;\n",
       "    }\n",
       "\n",
       "    .dataframe thead th {\n",
       "        text-align: right;\n",
       "    }\n",
       "</style>\n",
       "<table border=\"1\" class=\"dataframe\">\n",
       "  <thead>\n",
       "    <tr style=\"text-align: right;\">\n",
       "      <th></th>\n",
       "      <th>AUDIO_QNT</th>\n",
       "      <th>AUDIO_EXP</th>\n",
       "    </tr>\n",
       "    <tr>\n",
       "      <th>Household_ID</th>\n",
       "      <th></th>\n",
       "      <th></th>\n",
       "    </tr>\n",
       "  </thead>\n",
       "  <tbody>\n",
       "    <tr>\n",
       "      <th>106680329</th>\n",
       "      <td>361</td>\n",
       "      <td>2801.29</td>\n",
       "    </tr>\n",
       "  </tbody>\n",
       "</table>\n",
       "</div>"
      ],
      "text/plain": [
       "              AUDIO_QNT  AUDIO_EXP\n",
       "Household_ID                      \n",
       "106680329           361    2801.29"
      ]
     },
     "execution_count": 21,
     "metadata": {},
     "output_type": "execute_result"
    }
   ],
   "source": [
    "behavioral_df[behavioral_df['AUDIO_QNT'] == behavioral_df['AUDIO_QNT'].max()][['AUDIO_QNT', 'AUDIO_EXP']]"
   ]
  },
  {
   "cell_type": "code",
   "execution_count": 22,
   "metadata": {},
   "outputs": [
    {
     "data": {
      "text/plain": [
       "2801.29"
      ]
     },
     "execution_count": 22,
     "metadata": {},
     "output_type": "execute_result"
    }
   ],
   "source": [
    "initial_data[(initial_data.Household_ID == 106680329) & \\\n",
    "       (initial_data.Category_Description == 'AUDIO') & (initial_data.RETURN_IND == 'N')\\\n",
    "        & (initial_data.Transaction_type == 1)].EXTENDED_PRICE.sum()"
   ]
  },
  {
   "cell_type": "code",
   "execution_count": 23,
   "metadata": {
    "scrolled": true
   },
   "outputs": [
    {
     "data": {
      "text/plain": [
       "361"
      ]
     },
     "execution_count": 23,
     "metadata": {},
     "output_type": "execute_result"
    }
   ],
   "source": [
    "initial_data[(initial_data.Household_ID == 106680329) & \\\n",
    "       (initial_data.Category_Description == 'AUDIO') & (initial_data.RETURN_IND == 'N')\\\n",
    "       & (initial_data.Transaction_type == 1)].Quantity.sum()"
   ]
  },
  {
   "cell_type": "markdown",
   "metadata": {},
   "source": [
    "Our behavioral data set, was constructed, under several assumptions:\n",
    "- we took into account only 'buy' transactions, which were not returned to the store later.\n",
    "- category of a good, should be defined. i.e. no 'na' values.\n",
    "\n",
    "In the resulting behavioral data, we report number of items, bought, not the number of transactions."
   ]
  },
  {
   "cell_type": "code",
   "execution_count": 24,
   "metadata": {},
   "outputs": [],
   "source": [
    "behavioral_df.to_csv(\"../../data/processed_data/behavioral_data.csv\")"
   ]
  }
 ],
 "metadata": {
  "kernelspec": {
   "display_name": "Python 3",
   "language": "python",
   "name": "python3"
  },
  "language_info": {
   "codemirror_mode": {
    "name": "ipython",
    "version": 3
   },
   "file_extension": ".py",
   "mimetype": "text/x-python",
   "name": "python",
   "nbconvert_exporter": "python",
   "pygments_lexer": "ipython3",
   "version": "3.7.4"
  }
 },
 "nbformat": 4,
 "nbformat_minor": 2
}
