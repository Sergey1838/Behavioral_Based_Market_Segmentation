{
 "cells": [
  {
   "cell_type": "markdown",
   "metadata": {},
   "source": [
    "# 02. Clustering Analysis"
   ]
  },
  {
   "cell_type": "code",
   "execution_count": 1,
   "metadata": {},
   "outputs": [],
   "source": [
    "import pandas as pd\n",
    "from sklearn import preprocessing\n",
    "from sklearn import metrics\n",
    "from sklearn.cluster import KMeans\n",
    "from sklearn.cluster import Birch\n",
    "from sklearn.cluster import AgglomerativeClustering"
   ]
  },
  {
   "cell_type": "markdown",
   "metadata": {},
   "source": [
    "## I want to prepare demographics variables first, so at the end we can see how segrents are different from demographic point of view."
   ]
  },
  {
   "cell_type": "code",
   "execution_count": 2,
   "metadata": {},
   "outputs": [],
   "source": [
    "df_dem = pd.read_excel('../../data/raw_data/data.xlsx', sheet_name = \"DurData_June 24, 2011\")"
   ]
  },
  {
   "cell_type": "code",
   "execution_count": 3,
   "metadata": {
    "scrolled": true
   },
   "outputs": [
    {
     "data": {
      "text/html": [
       "<div>\n",
       "<style scoped>\n",
       "    .dataframe tbody tr th:only-of-type {\n",
       "        vertical-align: middle;\n",
       "    }\n",
       "\n",
       "    .dataframe tbody tr th {\n",
       "        vertical-align: top;\n",
       "    }\n",
       "\n",
       "    .dataframe thead th {\n",
       "        text-align: right;\n",
       "    }\n",
       "</style>\n",
       "<table border=\"1\" class=\"dataframe\">\n",
       "  <thead>\n",
       "    <tr style=\"text-align: right;\">\n",
       "      <th></th>\n",
       "      <th>Household_ID</th>\n",
       "      <th>Transaction_NBR</th>\n",
       "      <th>Transaction_Total</th>\n",
       "      <th>Transaction_Date</th>\n",
       "      <th>Transaction_Location</th>\n",
       "      <th>Online_Transaction</th>\n",
       "      <th>ORIGINAL_TICKET_NBR</th>\n",
       "      <th>Transaction_type</th>\n",
       "      <th>PRODUCT_ID</th>\n",
       "      <th>Category_Description</th>\n",
       "      <th>...</th>\n",
       "      <th>FEMALE_CHID_AGE_0-2</th>\n",
       "      <th>FEMALE_CHID_AGE_3-5</th>\n",
       "      <th>FEMALE_CHID_AGE_6-10</th>\n",
       "      <th>FEMALE_CHID_AGE_11-15</th>\n",
       "      <th>FEMALE_CHID_AGE_16-17</th>\n",
       "      <th>UNKNOWN_CHID_AGE_0-2</th>\n",
       "      <th>UNKNOWN_CHID_AGE_3-5</th>\n",
       "      <th>UNKNOWN_CHID_AGE_6-10</th>\n",
       "      <th>UNKNOWN_CHID_AGE_11-15</th>\n",
       "      <th>UNKNOWN_CHID_AGE_16-17</th>\n",
       "    </tr>\n",
       "  </thead>\n",
       "  <tbody>\n",
       "    <tr>\n",
       "      <th>0</th>\n",
       "      <td>100003544</td>\n",
       "      <td>1</td>\n",
       "      <td>1</td>\n",
       "      <td>06JUN2003:00:00:00</td>\n",
       "      <td>537</td>\n",
       "      <td>0</td>\n",
       "      <td>53703232083</td>\n",
       "      <td>1</td>\n",
       "      <td>879852.0</td>\n",
       "      <td>VIDEO HDWR</td>\n",
       "      <td>...</td>\n",
       "      <td>0</td>\n",
       "      <td>0</td>\n",
       "      <td>0</td>\n",
       "      <td>0</td>\n",
       "      <td>0</td>\n",
       "      <td>0</td>\n",
       "      <td>0</td>\n",
       "      <td>0</td>\n",
       "      <td>0</td>\n",
       "      <td>0</td>\n",
       "    </tr>\n",
       "    <tr>\n",
       "      <th>1</th>\n",
       "      <td>100012312</td>\n",
       "      <td>1</td>\n",
       "      <td>2</td>\n",
       "      <td>09JAN2001:00:00:00</td>\n",
       "      <td>841</td>\n",
       "      <td>0</td>\n",
       "      <td>84102381410</td>\n",
       "      <td>1</td>\n",
       "      <td>580994.0</td>\n",
       "      <td>TELEVISION</td>\n",
       "      <td>...</td>\n",
       "      <td>0</td>\n",
       "      <td>0</td>\n",
       "      <td>0</td>\n",
       "      <td>0</td>\n",
       "      <td>0</td>\n",
       "      <td>0</td>\n",
       "      <td>0</td>\n",
       "      <td>0</td>\n",
       "      <td>0</td>\n",
       "      <td>0</td>\n",
       "    </tr>\n",
       "    <tr>\n",
       "      <th>2</th>\n",
       "      <td>100012312</td>\n",
       "      <td>2</td>\n",
       "      <td>2</td>\n",
       "      <td>09JAN2001:00:00:00</td>\n",
       "      <td>841</td>\n",
       "      <td>0</td>\n",
       "      <td>84102381410</td>\n",
       "      <td>1</td>\n",
       "      <td>720025.0</td>\n",
       "      <td>P*S*T</td>\n",
       "      <td>...</td>\n",
       "      <td>0</td>\n",
       "      <td>0</td>\n",
       "      <td>0</td>\n",
       "      <td>0</td>\n",
       "      <td>0</td>\n",
       "      <td>0</td>\n",
       "      <td>0</td>\n",
       "      <td>0</td>\n",
       "      <td>0</td>\n",
       "      <td>0</td>\n",
       "    </tr>\n",
       "    <tr>\n",
       "      <th>3</th>\n",
       "      <td>100016237</td>\n",
       "      <td>1</td>\n",
       "      <td>1</td>\n",
       "      <td>22JAN2001:00:00:00</td>\n",
       "      <td>949</td>\n",
       "      <td>0</td>\n",
       "      <td>94904161842</td>\n",
       "      <td>1</td>\n",
       "      <td>575635.0</td>\n",
       "      <td>P*S*T</td>\n",
       "      <td>...</td>\n",
       "      <td>0</td>\n",
       "      <td>0</td>\n",
       "      <td>0</td>\n",
       "      <td>0</td>\n",
       "      <td>0</td>\n",
       "      <td>0</td>\n",
       "      <td>0</td>\n",
       "      <td>0</td>\n",
       "      <td>0</td>\n",
       "      <td>0</td>\n",
       "    </tr>\n",
       "    <tr>\n",
       "      <th>4</th>\n",
       "      <td>100022945</td>\n",
       "      <td>1</td>\n",
       "      <td>11</td>\n",
       "      <td>30JAN2001:00:00:00</td>\n",
       "      <td>521</td>\n",
       "      <td>0</td>\n",
       "      <td>52101921224</td>\n",
       "      <td>1</td>\n",
       "      <td>545443.0</td>\n",
       "      <td>MOBILE</td>\n",
       "      <td>...</td>\n",
       "      <td>0</td>\n",
       "      <td>0</td>\n",
       "      <td>0</td>\n",
       "      <td>0</td>\n",
       "      <td>1</td>\n",
       "      <td>0</td>\n",
       "      <td>0</td>\n",
       "      <td>0</td>\n",
       "      <td>0</td>\n",
       "      <td>0</td>\n",
       "    </tr>\n",
       "  </tbody>\n",
       "</table>\n",
       "<p>5 rows × 38 columns</p>\n",
       "</div>"
      ],
      "text/plain": [
       "   Household_ID  Transaction_NBR  Transaction_Total    Transaction_Date  \\\n",
       "0     100003544                1                  1  06JUN2003:00:00:00   \n",
       "1     100012312                1                  2  09JAN2001:00:00:00   \n",
       "2     100012312                2                  2  09JAN2001:00:00:00   \n",
       "3     100016237                1                  1  22JAN2001:00:00:00   \n",
       "4     100022945                1                 11  30JAN2001:00:00:00   \n",
       "\n",
       "   Transaction_Location  Online_Transaction  ORIGINAL_TICKET_NBR  \\\n",
       "0                   537                   0          53703232083   \n",
       "1                   841                   0          84102381410   \n",
       "2                   841                   0          84102381410   \n",
       "3                   949                   0          94904161842   \n",
       "4                   521                   0          52101921224   \n",
       "\n",
       "   Transaction_type  PRODUCT_ID Category_Description  ...  \\\n",
       "0                 1    879852.0           VIDEO HDWR  ...   \n",
       "1                 1    580994.0           TELEVISION  ...   \n",
       "2                 1    720025.0                P*S*T  ...   \n",
       "3                 1    575635.0                P*S*T  ...   \n",
       "4                 1    545443.0               MOBILE  ...   \n",
       "\n",
       "   FEMALE_CHID_AGE_0-2 FEMALE_CHID_AGE_3-5 FEMALE_CHID_AGE_6-10  \\\n",
       "0                    0                   0                    0   \n",
       "1                    0                   0                    0   \n",
       "2                    0                   0                    0   \n",
       "3                    0                   0                    0   \n",
       "4                    0                   0                    0   \n",
       "\n",
       "   FEMALE_CHID_AGE_11-15  FEMALE_CHID_AGE_16-17  UNKNOWN_CHID_AGE_0-2  \\\n",
       "0                      0                      0                     0   \n",
       "1                      0                      0                     0   \n",
       "2                      0                      0                     0   \n",
       "3                      0                      0                     0   \n",
       "4                      0                      1                     0   \n",
       "\n",
       "  UNKNOWN_CHID_AGE_3-5  UNKNOWN_CHID_AGE_6-10  UNKNOWN_CHID_AGE_11-15  \\\n",
       "0                    0                      0                       0   \n",
       "1                    0                      0                       0   \n",
       "2                    0                      0                       0   \n",
       "3                    0                      0                       0   \n",
       "4                    0                      0                       0   \n",
       "\n",
       "  UNKNOWN_CHID_AGE_16-17  \n",
       "0                      0  \n",
       "1                      0  \n",
       "2                      0  \n",
       "3                      0  \n",
       "4                      0  \n",
       "\n",
       "[5 rows x 38 columns]"
      ]
     },
     "execution_count": 3,
     "metadata": {},
     "output_type": "execute_result"
    }
   ],
   "source": [
    "#pd.set_option('display.max_columns', 500)\n",
    "df_dem.head()"
   ]
  },
  {
   "cell_type": "markdown",
   "metadata": {},
   "source": [
    "Columns for childrens are separated by sex and age, which are too many columns. So I simply add them to get the total number of kids."
   ]
  },
  {
   "cell_type": "code",
   "execution_count": 4,
   "metadata": {},
   "outputs": [],
   "source": [
    "df_dem['n_kids'] = df_dem.loc[:,df_dem.columns.str.contains(\"CHID\")].sum(axis = 1)"
   ]
  },
  {
   "cell_type": "markdown",
   "metadata": {},
   "source": [
    "I want to keep only demographics' variables."
   ]
  },
  {
   "cell_type": "code",
   "execution_count": 5,
   "metadata": {},
   "outputs": [],
   "source": [
    "df_dem = df_dem[['Household_ID', 'Age_H.Head', 'Income', 'GENDER_H.Head', 'n_kids']]"
   ]
  },
  {
   "cell_type": "code",
   "execution_count": 6,
   "metadata": {},
   "outputs": [
    {
     "data": {
      "text/plain": [
       "Household_ID         0\n",
       "Age_H.Head       20971\n",
       "Income           20455\n",
       "GENDER_H.Head        0\n",
       "n_kids               0\n",
       "dtype: int64"
      ]
     },
     "execution_count": 6,
     "metadata": {},
     "output_type": "execute_result"
    }
   ],
   "source": [
    "df_dem.isna().sum()"
   ]
  },
  {
   "cell_type": "markdown",
   "metadata": {},
   "source": [
    "I drop rows where \"Age_H.Head\" is NA."
   ]
  },
  {
   "cell_type": "code",
   "execution_count": 7,
   "metadata": {},
   "outputs": [],
   "source": [
    "df_dem = df_dem[df_dem['Age_H.Head'].notna()]"
   ]
  },
  {
   "cell_type": "code",
   "execution_count": 8,
   "metadata": {},
   "outputs": [
    {
     "data": {
      "text/plain": [
       "Household_ID        0\n",
       "Age_H.Head          0\n",
       "Income           8371\n",
       "GENDER_H.Head       0\n",
       "n_kids              0\n",
       "dtype: int64"
      ]
     },
     "execution_count": 8,
     "metadata": {},
     "output_type": "execute_result"
    }
   ],
   "source": [
    "df_dem.isna().sum()"
   ]
  },
  {
   "cell_type": "code",
   "execution_count": 9,
   "metadata": {},
   "outputs": [
    {
     "data": {
      "text/plain": [
       "count    143920.000000\n",
       "mean          5.998263\n",
       "std           2.258421\n",
       "min           1.000000\n",
       "25%           5.000000\n",
       "50%           6.000000\n",
       "75%           8.000000\n",
       "max           9.000000\n",
       "Name: Income, dtype: float64"
      ]
     },
     "execution_count": 9,
     "metadata": {},
     "output_type": "execute_result"
    }
   ],
   "source": [
    "df_dem.Income.describe()"
   ]
  },
  {
   "cell_type": "markdown",
   "metadata": {},
   "source": [
    "Mean is close to 6, median is 6, so I will fill it with this value."
   ]
  },
  {
   "cell_type": "code",
   "execution_count": 10,
   "metadata": {
    "scrolled": false
   },
   "outputs": [],
   "source": [
    "df_dem.Income.fillna(6, inplace = True)"
   ]
  },
  {
   "cell_type": "code",
   "execution_count": 11,
   "metadata": {},
   "outputs": [],
   "source": [
    "df_dem = pd.get_dummies(df_dem, columns = ['GENDER_H.Head'])"
   ]
  },
  {
   "cell_type": "markdown",
   "metadata": {},
   "source": [
    "We have duplicate rows, we want to leave only unique rows."
   ]
  },
  {
   "cell_type": "code",
   "execution_count": 12,
   "metadata": {},
   "outputs": [
    {
     "data": {
      "text/plain": [
       "16384"
      ]
     },
     "execution_count": 12,
     "metadata": {},
     "output_type": "execute_result"
    }
   ],
   "source": [
    "df_dem.Household_ID.nunique() # same as the length of the dataframe after dropping duplicating rows"
   ]
  },
  {
   "cell_type": "code",
   "execution_count": 13,
   "metadata": {},
   "outputs": [],
   "source": [
    "df_dem.drop_duplicates(inplace = True)"
   ]
  },
  {
   "cell_type": "code",
   "execution_count": 14,
   "metadata": {},
   "outputs": [
    {
     "data": {
      "text/plain": [
       "16384"
      ]
     },
     "execution_count": 14,
     "metadata": {},
     "output_type": "execute_result"
    }
   ],
   "source": [
    "len(df_dem) # check"
   ]
  },
  {
   "cell_type": "code",
   "execution_count": 15,
   "metadata": {},
   "outputs": [],
   "source": [
    "df_dem.set_index('Household_ID', inplace = True)"
   ]
  },
  {
   "cell_type": "code",
   "execution_count": 16,
   "metadata": {},
   "outputs": [
    {
     "data": {
      "text/html": [
       "<div>\n",
       "<style scoped>\n",
       "    .dataframe tbody tr th:only-of-type {\n",
       "        vertical-align: middle;\n",
       "    }\n",
       "\n",
       "    .dataframe tbody tr th {\n",
       "        vertical-align: top;\n",
       "    }\n",
       "\n",
       "    .dataframe thead th {\n",
       "        text-align: right;\n",
       "    }\n",
       "</style>\n",
       "<table border=\"1\" class=\"dataframe\">\n",
       "  <thead>\n",
       "    <tr style=\"text-align: right;\">\n",
       "      <th></th>\n",
       "      <th>Age_H.Head</th>\n",
       "      <th>Income</th>\n",
       "      <th>n_kids</th>\n",
       "      <th>GENDER_H.Head_F</th>\n",
       "      <th>GENDER_H.Head_M</th>\n",
       "      <th>GENDER_H.Head_U</th>\n",
       "    </tr>\n",
       "    <tr>\n",
       "      <th>Household_ID</th>\n",
       "      <th></th>\n",
       "      <th></th>\n",
       "      <th></th>\n",
       "      <th></th>\n",
       "      <th></th>\n",
       "      <th></th>\n",
       "    </tr>\n",
       "  </thead>\n",
       "  <tbody>\n",
       "    <tr>\n",
       "      <th>100003544</th>\n",
       "      <td>28.0</td>\n",
       "      <td>6.0</td>\n",
       "      <td>0</td>\n",
       "      <td>0</td>\n",
       "      <td>1</td>\n",
       "      <td>0</td>\n",
       "    </tr>\n",
       "    <tr>\n",
       "      <th>100012312</th>\n",
       "      <td>24.0</td>\n",
       "      <td>1.0</td>\n",
       "      <td>0</td>\n",
       "      <td>0</td>\n",
       "      <td>1</td>\n",
       "      <td>0</td>\n",
       "    </tr>\n",
       "    <tr>\n",
       "      <th>100022945</th>\n",
       "      <td>44.0</td>\n",
       "      <td>5.0</td>\n",
       "      <td>1</td>\n",
       "      <td>0</td>\n",
       "      <td>1</td>\n",
       "      <td>0</td>\n",
       "    </tr>\n",
       "    <tr>\n",
       "      <th>100022976</th>\n",
       "      <td>54.0</td>\n",
       "      <td>7.0</td>\n",
       "      <td>0</td>\n",
       "      <td>0</td>\n",
       "      <td>1</td>\n",
       "      <td>0</td>\n",
       "    </tr>\n",
       "    <tr>\n",
       "      <th>100024091</th>\n",
       "      <td>44.0</td>\n",
       "      <td>5.0</td>\n",
       "      <td>0</td>\n",
       "      <td>0</td>\n",
       "      <td>0</td>\n",
       "      <td>1</td>\n",
       "    </tr>\n",
       "  </tbody>\n",
       "</table>\n",
       "</div>"
      ],
      "text/plain": [
       "              Age_H.Head  Income  n_kids  GENDER_H.Head_F  GENDER_H.Head_M  \\\n",
       "Household_ID                                                                 \n",
       "100003544           28.0     6.0       0                0                1   \n",
       "100012312           24.0     1.0       0                0                1   \n",
       "100022945           44.0     5.0       1                0                1   \n",
       "100022976           54.0     7.0       0                0                1   \n",
       "100024091           44.0     5.0       0                0                0   \n",
       "\n",
       "              GENDER_H.Head_U  \n",
       "Household_ID                   \n",
       "100003544                   0  \n",
       "100012312                   0  \n",
       "100022945                   0  \n",
       "100022976                   0  \n",
       "100024091                   1  "
      ]
     },
     "execution_count": 16,
     "metadata": {},
     "output_type": "execute_result"
    }
   ],
   "source": [
    "df_dem.head()"
   ]
  },
  {
   "cell_type": "markdown",
   "metadata": {},
   "source": [
    "## Now I want to prepare behavioral data for clustering."
   ]
  },
  {
   "cell_type": "code",
   "execution_count": 17,
   "metadata": {},
   "outputs": [],
   "source": [
    "df = pd.read_csv('../../data/processed_data/behavioral_data.csv')"
   ]
  },
  {
   "cell_type": "code",
   "execution_count": 18,
   "metadata": {},
   "outputs": [],
   "source": [
    "df.set_index('Household_ID', inplace = True)"
   ]
  },
  {
   "cell_type": "code",
   "execution_count": 19,
   "metadata": {
    "scrolled": true
   },
   "outputs": [
    {
     "data": {
      "text/html": [
       "<div>\n",
       "<style scoped>\n",
       "    .dataframe tbody tr th:only-of-type {\n",
       "        vertical-align: middle;\n",
       "    }\n",
       "\n",
       "    .dataframe tbody tr th {\n",
       "        vertical-align: top;\n",
       "    }\n",
       "\n",
       "    .dataframe thead th {\n",
       "        text-align: right;\n",
       "    }\n",
       "</style>\n",
       "<table border=\"1\" class=\"dataframe\">\n",
       "  <thead>\n",
       "    <tr style=\"text-align: right;\">\n",
       "      <th></th>\n",
       "      <th>AUDIO_QNT</th>\n",
       "      <th>DVS_QNT</th>\n",
       "      <th>EXPRESS_QNT</th>\n",
       "      <th>GIFT CARDS_QNT</th>\n",
       "      <th>HOME INS_QNT</th>\n",
       "      <th>IMAGING_QNT</th>\n",
       "      <th>INTABGIBLE_QNT</th>\n",
       "      <th>MAJORS_QNT</th>\n",
       "      <th>MOBILE_QNT</th>\n",
       "      <th>MUSIC_QNT</th>\n",
       "      <th>...</th>\n",
       "      <th>INTABGIBLE_EXP</th>\n",
       "      <th>MAJORS_EXP</th>\n",
       "      <th>MOBILE_EXP</th>\n",
       "      <th>MUSIC_EXP</th>\n",
       "      <th>OTHER_EXP</th>\n",
       "      <th>P*S*T_EXP</th>\n",
       "      <th>PC HDWR_EXP</th>\n",
       "      <th>TELEVISION_EXP</th>\n",
       "      <th>VIDEO HDWR_EXP</th>\n",
       "      <th>WIRELESS_EXP</th>\n",
       "    </tr>\n",
       "    <tr>\n",
       "      <th>Household_ID</th>\n",
       "      <th></th>\n",
       "      <th></th>\n",
       "      <th></th>\n",
       "      <th></th>\n",
       "      <th></th>\n",
       "      <th></th>\n",
       "      <th></th>\n",
       "      <th></th>\n",
       "      <th></th>\n",
       "      <th></th>\n",
       "      <th></th>\n",
       "      <th></th>\n",
       "      <th></th>\n",
       "      <th></th>\n",
       "      <th></th>\n",
       "      <th></th>\n",
       "      <th></th>\n",
       "      <th></th>\n",
       "      <th></th>\n",
       "      <th></th>\n",
       "      <th></th>\n",
       "    </tr>\n",
       "  </thead>\n",
       "  <tbody>\n",
       "    <tr>\n",
       "      <th>100003544</th>\n",
       "      <td>0</td>\n",
       "      <td>0</td>\n",
       "      <td>0</td>\n",
       "      <td>0</td>\n",
       "      <td>0</td>\n",
       "      <td>0</td>\n",
       "      <td>0</td>\n",
       "      <td>0</td>\n",
       "      <td>0</td>\n",
       "      <td>0</td>\n",
       "      <td>...</td>\n",
       "      <td>0.0</td>\n",
       "      <td>0.0</td>\n",
       "      <td>0.00</td>\n",
       "      <td>0.0</td>\n",
       "      <td>0.0</td>\n",
       "      <td>0.00</td>\n",
       "      <td>0.00</td>\n",
       "      <td>0.00</td>\n",
       "      <td>99.97</td>\n",
       "      <td>0.0</td>\n",
       "    </tr>\n",
       "    <tr>\n",
       "      <th>100012312</th>\n",
       "      <td>0</td>\n",
       "      <td>0</td>\n",
       "      <td>0</td>\n",
       "      <td>0</td>\n",
       "      <td>0</td>\n",
       "      <td>0</td>\n",
       "      <td>0</td>\n",
       "      <td>0</td>\n",
       "      <td>0</td>\n",
       "      <td>0</td>\n",
       "      <td>...</td>\n",
       "      <td>0.0</td>\n",
       "      <td>0.0</td>\n",
       "      <td>0.00</td>\n",
       "      <td>0.0</td>\n",
       "      <td>0.0</td>\n",
       "      <td>19.99</td>\n",
       "      <td>0.00</td>\n",
       "      <td>9.99</td>\n",
       "      <td>0.00</td>\n",
       "      <td>0.0</td>\n",
       "    </tr>\n",
       "    <tr>\n",
       "      <th>100016237</th>\n",
       "      <td>0</td>\n",
       "      <td>0</td>\n",
       "      <td>0</td>\n",
       "      <td>0</td>\n",
       "      <td>0</td>\n",
       "      <td>0</td>\n",
       "      <td>0</td>\n",
       "      <td>0</td>\n",
       "      <td>0</td>\n",
       "      <td>0</td>\n",
       "      <td>...</td>\n",
       "      <td>0.0</td>\n",
       "      <td>0.0</td>\n",
       "      <td>0.00</td>\n",
       "      <td>0.0</td>\n",
       "      <td>0.0</td>\n",
       "      <td>89.99</td>\n",
       "      <td>0.00</td>\n",
       "      <td>0.00</td>\n",
       "      <td>0.00</td>\n",
       "      <td>0.0</td>\n",
       "    </tr>\n",
       "    <tr>\n",
       "      <th>100022945</th>\n",
       "      <td>0</td>\n",
       "      <td>0</td>\n",
       "      <td>0</td>\n",
       "      <td>0</td>\n",
       "      <td>0</td>\n",
       "      <td>1</td>\n",
       "      <td>0</td>\n",
       "      <td>0</td>\n",
       "      <td>2</td>\n",
       "      <td>0</td>\n",
       "      <td>...</td>\n",
       "      <td>0.0</td>\n",
       "      <td>0.0</td>\n",
       "      <td>24.98</td>\n",
       "      <td>0.0</td>\n",
       "      <td>0.0</td>\n",
       "      <td>193.95</td>\n",
       "      <td>149.99</td>\n",
       "      <td>0.00</td>\n",
       "      <td>0.00</td>\n",
       "      <td>0.0</td>\n",
       "    </tr>\n",
       "    <tr>\n",
       "      <th>100022976</th>\n",
       "      <td>1</td>\n",
       "      <td>0</td>\n",
       "      <td>0</td>\n",
       "      <td>0</td>\n",
       "      <td>0</td>\n",
       "      <td>0</td>\n",
       "      <td>0</td>\n",
       "      <td>0</td>\n",
       "      <td>0</td>\n",
       "      <td>0</td>\n",
       "      <td>...</td>\n",
       "      <td>0.0</td>\n",
       "      <td>0.0</td>\n",
       "      <td>0.00</td>\n",
       "      <td>0.0</td>\n",
       "      <td>0.0</td>\n",
       "      <td>0.00</td>\n",
       "      <td>0.00</td>\n",
       "      <td>0.00</td>\n",
       "      <td>249.99</td>\n",
       "      <td>0.0</td>\n",
       "    </tr>\n",
       "  </tbody>\n",
       "</table>\n",
       "<p>5 rows × 32 columns</p>\n",
       "</div>"
      ],
      "text/plain": [
       "              AUDIO_QNT  DVS_QNT  EXPRESS_QNT  GIFT CARDS_QNT  HOME INS_QNT  \\\n",
       "Household_ID                                                                  \n",
       "100003544             0        0            0               0             0   \n",
       "100012312             0        0            0               0             0   \n",
       "100016237             0        0            0               0             0   \n",
       "100022945             0        0            0               0             0   \n",
       "100022976             1        0            0               0             0   \n",
       "\n",
       "              IMAGING_QNT  INTABGIBLE_QNT  MAJORS_QNT  MOBILE_QNT  MUSIC_QNT  \\\n",
       "Household_ID                                                                   \n",
       "100003544               0               0           0           0          0   \n",
       "100012312               0               0           0           0          0   \n",
       "100016237               0               0           0           0          0   \n",
       "100022945               1               0           0           2          0   \n",
       "100022976               0               0           0           0          0   \n",
       "\n",
       "              ...  INTABGIBLE_EXP  MAJORS_EXP  MOBILE_EXP  MUSIC_EXP  \\\n",
       "Household_ID  ...                                                      \n",
       "100003544     ...             0.0         0.0        0.00        0.0   \n",
       "100012312     ...             0.0         0.0        0.00        0.0   \n",
       "100016237     ...             0.0         0.0        0.00        0.0   \n",
       "100022945     ...             0.0         0.0       24.98        0.0   \n",
       "100022976     ...             0.0         0.0        0.00        0.0   \n",
       "\n",
       "              OTHER_EXP  P*S*T_EXP  PC HDWR_EXP  TELEVISION_EXP  \\\n",
       "Household_ID                                                      \n",
       "100003544           0.0       0.00         0.00            0.00   \n",
       "100012312           0.0      19.99         0.00            9.99   \n",
       "100016237           0.0      89.99         0.00            0.00   \n",
       "100022945           0.0     193.95       149.99            0.00   \n",
       "100022976           0.0       0.00         0.00            0.00   \n",
       "\n",
       "              VIDEO HDWR_EXP  WIRELESS_EXP  \n",
       "Household_ID                                \n",
       "100003544              99.97           0.0  \n",
       "100012312               0.00           0.0  \n",
       "100016237               0.00           0.0  \n",
       "100022945               0.00           0.0  \n",
       "100022976             249.99           0.0  \n",
       "\n",
       "[5 rows x 32 columns]"
      ]
     },
     "execution_count": 19,
     "metadata": {},
     "output_type": "execute_result"
    }
   ],
   "source": [
    "df.head()"
   ]
  },
  {
   "cell_type": "markdown",
   "metadata": {},
   "source": [
    "I divide data to 2 sets, so I can use them as 2 sets of basis variables. One set is quantity of items bought in each particular category. Second set is expenditures per category."
   ]
  },
  {
   "cell_type": "code",
   "execution_count": 20,
   "metadata": {},
   "outputs": [],
   "source": [
    "df_q = df.iloc[:,:16]"
   ]
  },
  {
   "cell_type": "code",
   "execution_count": 21,
   "metadata": {},
   "outputs": [
    {
     "data": {
      "text/html": [
       "<div>\n",
       "<style scoped>\n",
       "    .dataframe tbody tr th:only-of-type {\n",
       "        vertical-align: middle;\n",
       "    }\n",
       "\n",
       "    .dataframe tbody tr th {\n",
       "        vertical-align: top;\n",
       "    }\n",
       "\n",
       "    .dataframe thead th {\n",
       "        text-align: right;\n",
       "    }\n",
       "</style>\n",
       "<table border=\"1\" class=\"dataframe\">\n",
       "  <thead>\n",
       "    <tr style=\"text-align: right;\">\n",
       "      <th></th>\n",
       "      <th>AUDIO_QNT</th>\n",
       "      <th>DVS_QNT</th>\n",
       "      <th>EXPRESS_QNT</th>\n",
       "      <th>GIFT CARDS_QNT</th>\n",
       "      <th>HOME INS_QNT</th>\n",
       "      <th>IMAGING_QNT</th>\n",
       "      <th>INTABGIBLE_QNT</th>\n",
       "      <th>MAJORS_QNT</th>\n",
       "      <th>MOBILE_QNT</th>\n",
       "      <th>MUSIC_QNT</th>\n",
       "      <th>OTHER_QNT</th>\n",
       "      <th>P*S*T_QNT</th>\n",
       "      <th>PC HDWR_QNT</th>\n",
       "      <th>TELEVISION_QNT</th>\n",
       "      <th>VIDEO HDWR_QNT</th>\n",
       "      <th>WIRELESS_QNT</th>\n",
       "    </tr>\n",
       "    <tr>\n",
       "      <th>Household_ID</th>\n",
       "      <th></th>\n",
       "      <th></th>\n",
       "      <th></th>\n",
       "      <th></th>\n",
       "      <th></th>\n",
       "      <th></th>\n",
       "      <th></th>\n",
       "      <th></th>\n",
       "      <th></th>\n",
       "      <th></th>\n",
       "      <th></th>\n",
       "      <th></th>\n",
       "      <th></th>\n",
       "      <th></th>\n",
       "      <th></th>\n",
       "      <th></th>\n",
       "    </tr>\n",
       "  </thead>\n",
       "  <tbody>\n",
       "    <tr>\n",
       "      <th>100003544</th>\n",
       "      <td>0</td>\n",
       "      <td>0</td>\n",
       "      <td>0</td>\n",
       "      <td>0</td>\n",
       "      <td>0</td>\n",
       "      <td>0</td>\n",
       "      <td>0</td>\n",
       "      <td>0</td>\n",
       "      <td>0</td>\n",
       "      <td>0</td>\n",
       "      <td>0</td>\n",
       "      <td>0</td>\n",
       "      <td>0</td>\n",
       "      <td>0</td>\n",
       "      <td>1</td>\n",
       "      <td>0</td>\n",
       "    </tr>\n",
       "    <tr>\n",
       "      <th>100012312</th>\n",
       "      <td>0</td>\n",
       "      <td>0</td>\n",
       "      <td>0</td>\n",
       "      <td>0</td>\n",
       "      <td>0</td>\n",
       "      <td>0</td>\n",
       "      <td>0</td>\n",
       "      <td>0</td>\n",
       "      <td>0</td>\n",
       "      <td>0</td>\n",
       "      <td>0</td>\n",
       "      <td>1</td>\n",
       "      <td>0</td>\n",
       "      <td>1</td>\n",
       "      <td>0</td>\n",
       "      <td>0</td>\n",
       "    </tr>\n",
       "    <tr>\n",
       "      <th>100016237</th>\n",
       "      <td>0</td>\n",
       "      <td>0</td>\n",
       "      <td>0</td>\n",
       "      <td>0</td>\n",
       "      <td>0</td>\n",
       "      <td>0</td>\n",
       "      <td>0</td>\n",
       "      <td>0</td>\n",
       "      <td>0</td>\n",
       "      <td>0</td>\n",
       "      <td>0</td>\n",
       "      <td>1</td>\n",
       "      <td>0</td>\n",
       "      <td>0</td>\n",
       "      <td>0</td>\n",
       "      <td>0</td>\n",
       "    </tr>\n",
       "    <tr>\n",
       "      <th>100022945</th>\n",
       "      <td>0</td>\n",
       "      <td>0</td>\n",
       "      <td>0</td>\n",
       "      <td>0</td>\n",
       "      <td>0</td>\n",
       "      <td>1</td>\n",
       "      <td>0</td>\n",
       "      <td>0</td>\n",
       "      <td>2</td>\n",
       "      <td>0</td>\n",
       "      <td>0</td>\n",
       "      <td>5</td>\n",
       "      <td>1</td>\n",
       "      <td>0</td>\n",
       "      <td>0</td>\n",
       "      <td>0</td>\n",
       "    </tr>\n",
       "    <tr>\n",
       "      <th>100022976</th>\n",
       "      <td>1</td>\n",
       "      <td>0</td>\n",
       "      <td>0</td>\n",
       "      <td>0</td>\n",
       "      <td>0</td>\n",
       "      <td>0</td>\n",
       "      <td>0</td>\n",
       "      <td>0</td>\n",
       "      <td>0</td>\n",
       "      <td>0</td>\n",
       "      <td>0</td>\n",
       "      <td>0</td>\n",
       "      <td>0</td>\n",
       "      <td>0</td>\n",
       "      <td>1</td>\n",
       "      <td>0</td>\n",
       "    </tr>\n",
       "  </tbody>\n",
       "</table>\n",
       "</div>"
      ],
      "text/plain": [
       "              AUDIO_QNT  DVS_QNT  EXPRESS_QNT  GIFT CARDS_QNT  HOME INS_QNT  \\\n",
       "Household_ID                                                                  \n",
       "100003544             0        0            0               0             0   \n",
       "100012312             0        0            0               0             0   \n",
       "100016237             0        0            0               0             0   \n",
       "100022945             0        0            0               0             0   \n",
       "100022976             1        0            0               0             0   \n",
       "\n",
       "              IMAGING_QNT  INTABGIBLE_QNT  MAJORS_QNT  MOBILE_QNT  MUSIC_QNT  \\\n",
       "Household_ID                                                                   \n",
       "100003544               0               0           0           0          0   \n",
       "100012312               0               0           0           0          0   \n",
       "100016237               0               0           0           0          0   \n",
       "100022945               1               0           0           2          0   \n",
       "100022976               0               0           0           0          0   \n",
       "\n",
       "              OTHER_QNT  P*S*T_QNT  PC HDWR_QNT  TELEVISION_QNT  \\\n",
       "Household_ID                                                      \n",
       "100003544             0          0            0               0   \n",
       "100012312             0          1            0               1   \n",
       "100016237             0          1            0               0   \n",
       "100022945             0          5            1               0   \n",
       "100022976             0          0            0               0   \n",
       "\n",
       "              VIDEO HDWR_QNT  WIRELESS_QNT  \n",
       "Household_ID                                \n",
       "100003544                  1             0  \n",
       "100012312                  0             0  \n",
       "100016237                  0             0  \n",
       "100022945                  0             0  \n",
       "100022976                  1             0  "
      ]
     },
     "execution_count": 21,
     "metadata": {},
     "output_type": "execute_result"
    }
   ],
   "source": [
    "df_q.head()"
   ]
  },
  {
   "cell_type": "code",
   "execution_count": 22,
   "metadata": {},
   "outputs": [],
   "source": [
    "df_e = df.iloc[:,16:]"
   ]
  },
  {
   "cell_type": "code",
   "execution_count": 23,
   "metadata": {},
   "outputs": [
    {
     "data": {
      "text/html": [
       "<div>\n",
       "<style scoped>\n",
       "    .dataframe tbody tr th:only-of-type {\n",
       "        vertical-align: middle;\n",
       "    }\n",
       "\n",
       "    .dataframe tbody tr th {\n",
       "        vertical-align: top;\n",
       "    }\n",
       "\n",
       "    .dataframe thead th {\n",
       "        text-align: right;\n",
       "    }\n",
       "</style>\n",
       "<table border=\"1\" class=\"dataframe\">\n",
       "  <thead>\n",
       "    <tr style=\"text-align: right;\">\n",
       "      <th></th>\n",
       "      <th>AUDIO_EXP</th>\n",
       "      <th>DVS_EXP</th>\n",
       "      <th>EXPRESS_EXP</th>\n",
       "      <th>GIFT CARDS_EXP</th>\n",
       "      <th>HOME INS_EXP</th>\n",
       "      <th>IMAGING_EXP</th>\n",
       "      <th>INTABGIBLE_EXP</th>\n",
       "      <th>MAJORS_EXP</th>\n",
       "      <th>MOBILE_EXP</th>\n",
       "      <th>MUSIC_EXP</th>\n",
       "      <th>OTHER_EXP</th>\n",
       "      <th>P*S*T_EXP</th>\n",
       "      <th>PC HDWR_EXP</th>\n",
       "      <th>TELEVISION_EXP</th>\n",
       "      <th>VIDEO HDWR_EXP</th>\n",
       "      <th>WIRELESS_EXP</th>\n",
       "    </tr>\n",
       "    <tr>\n",
       "      <th>Household_ID</th>\n",
       "      <th></th>\n",
       "      <th></th>\n",
       "      <th></th>\n",
       "      <th></th>\n",
       "      <th></th>\n",
       "      <th></th>\n",
       "      <th></th>\n",
       "      <th></th>\n",
       "      <th></th>\n",
       "      <th></th>\n",
       "      <th></th>\n",
       "      <th></th>\n",
       "      <th></th>\n",
       "      <th></th>\n",
       "      <th></th>\n",
       "      <th></th>\n",
       "    </tr>\n",
       "  </thead>\n",
       "  <tbody>\n",
       "    <tr>\n",
       "      <th>100003544</th>\n",
       "      <td>0.00</td>\n",
       "      <td>0.0</td>\n",
       "      <td>0.0</td>\n",
       "      <td>0</td>\n",
       "      <td>0.0</td>\n",
       "      <td>0.00</td>\n",
       "      <td>0.0</td>\n",
       "      <td>0.0</td>\n",
       "      <td>0.00</td>\n",
       "      <td>0.0</td>\n",
       "      <td>0.0</td>\n",
       "      <td>0.00</td>\n",
       "      <td>0.00</td>\n",
       "      <td>0.00</td>\n",
       "      <td>99.97</td>\n",
       "      <td>0.0</td>\n",
       "    </tr>\n",
       "    <tr>\n",
       "      <th>100012312</th>\n",
       "      <td>0.00</td>\n",
       "      <td>0.0</td>\n",
       "      <td>0.0</td>\n",
       "      <td>0</td>\n",
       "      <td>0.0</td>\n",
       "      <td>0.00</td>\n",
       "      <td>0.0</td>\n",
       "      <td>0.0</td>\n",
       "      <td>0.00</td>\n",
       "      <td>0.0</td>\n",
       "      <td>0.0</td>\n",
       "      <td>19.99</td>\n",
       "      <td>0.00</td>\n",
       "      <td>9.99</td>\n",
       "      <td>0.00</td>\n",
       "      <td>0.0</td>\n",
       "    </tr>\n",
       "    <tr>\n",
       "      <th>100016237</th>\n",
       "      <td>0.00</td>\n",
       "      <td>0.0</td>\n",
       "      <td>0.0</td>\n",
       "      <td>0</td>\n",
       "      <td>0.0</td>\n",
       "      <td>0.00</td>\n",
       "      <td>0.0</td>\n",
       "      <td>0.0</td>\n",
       "      <td>0.00</td>\n",
       "      <td>0.0</td>\n",
       "      <td>0.0</td>\n",
       "      <td>89.99</td>\n",
       "      <td>0.00</td>\n",
       "      <td>0.00</td>\n",
       "      <td>0.00</td>\n",
       "      <td>0.0</td>\n",
       "    </tr>\n",
       "    <tr>\n",
       "      <th>100022945</th>\n",
       "      <td>0.00</td>\n",
       "      <td>0.0</td>\n",
       "      <td>0.0</td>\n",
       "      <td>0</td>\n",
       "      <td>0.0</td>\n",
       "      <td>259.99</td>\n",
       "      <td>0.0</td>\n",
       "      <td>0.0</td>\n",
       "      <td>24.98</td>\n",
       "      <td>0.0</td>\n",
       "      <td>0.0</td>\n",
       "      <td>193.95</td>\n",
       "      <td>149.99</td>\n",
       "      <td>0.00</td>\n",
       "      <td>0.00</td>\n",
       "      <td>0.0</td>\n",
       "    </tr>\n",
       "    <tr>\n",
       "      <th>100022976</th>\n",
       "      <td>599.99</td>\n",
       "      <td>0.0</td>\n",
       "      <td>0.0</td>\n",
       "      <td>0</td>\n",
       "      <td>0.0</td>\n",
       "      <td>0.00</td>\n",
       "      <td>0.0</td>\n",
       "      <td>0.0</td>\n",
       "      <td>0.00</td>\n",
       "      <td>0.0</td>\n",
       "      <td>0.0</td>\n",
       "      <td>0.00</td>\n",
       "      <td>0.00</td>\n",
       "      <td>0.00</td>\n",
       "      <td>249.99</td>\n",
       "      <td>0.0</td>\n",
       "    </tr>\n",
       "  </tbody>\n",
       "</table>\n",
       "</div>"
      ],
      "text/plain": [
       "              AUDIO_EXP  DVS_EXP  EXPRESS_EXP  GIFT CARDS_EXP  HOME INS_EXP  \\\n",
       "Household_ID                                                                  \n",
       "100003544          0.00      0.0          0.0               0           0.0   \n",
       "100012312          0.00      0.0          0.0               0           0.0   \n",
       "100016237          0.00      0.0          0.0               0           0.0   \n",
       "100022945          0.00      0.0          0.0               0           0.0   \n",
       "100022976        599.99      0.0          0.0               0           0.0   \n",
       "\n",
       "              IMAGING_EXP  INTABGIBLE_EXP  MAJORS_EXP  MOBILE_EXP  MUSIC_EXP  \\\n",
       "Household_ID                                                                   \n",
       "100003544            0.00             0.0         0.0        0.00        0.0   \n",
       "100012312            0.00             0.0         0.0        0.00        0.0   \n",
       "100016237            0.00             0.0         0.0        0.00        0.0   \n",
       "100022945          259.99             0.0         0.0       24.98        0.0   \n",
       "100022976            0.00             0.0         0.0        0.00        0.0   \n",
       "\n",
       "              OTHER_EXP  P*S*T_EXP  PC HDWR_EXP  TELEVISION_EXP  \\\n",
       "Household_ID                                                      \n",
       "100003544           0.0       0.00         0.00            0.00   \n",
       "100012312           0.0      19.99         0.00            9.99   \n",
       "100016237           0.0      89.99         0.00            0.00   \n",
       "100022945           0.0     193.95       149.99            0.00   \n",
       "100022976           0.0       0.00         0.00            0.00   \n",
       "\n",
       "              VIDEO HDWR_EXP  WIRELESS_EXP  \n",
       "Household_ID                                \n",
       "100003544              99.97           0.0  \n",
       "100012312               0.00           0.0  \n",
       "100016237               0.00           0.0  \n",
       "100022945               0.00           0.0  \n",
       "100022976             249.99           0.0  "
      ]
     },
     "execution_count": 23,
     "metadata": {},
     "output_type": "execute_result"
    }
   ],
   "source": [
    "df_e.head()"
   ]
  },
  {
   "cell_type": "markdown",
   "metadata": {},
   "source": [
    "Let's check the variance of basis variables, to see whether we should drop any columns."
   ]
  },
  {
   "cell_type": "code",
   "execution_count": 24,
   "metadata": {},
   "outputs": [
    {
     "data": {
      "text/plain": [
       "AUDIO_QNT         28.524774\n",
       "DVS_QNT            0.393566\n",
       "EXPRESS_QNT        0.000050\n",
       "GIFT CARDS_QNT     0.005093\n",
       "HOME INS_QNT       0.020416\n",
       "IMAGING_QNT        1.372556\n",
       "INTABGIBLE_QNT     0.007952\n",
       "MAJORS_QNT         0.628519\n",
       "MOBILE_QNT         4.127627\n",
       "MUSIC_QNT          7.921250\n",
       "OTHER_QNT          0.101378\n",
       "P*S*T_QNT         11.195786\n",
       "PC HDWR_QNT        1.654860\n",
       "TELEVISION_QNT     1.304974\n",
       "VIDEO HDWR_QNT     0.938595\n",
       "WIRELESS_QNT       0.436556\n",
       "dtype: float64"
      ]
     },
     "execution_count": 24,
     "metadata": {},
     "output_type": "execute_result"
    }
   ],
   "source": [
    "df_q.var()"
   ]
  },
  {
   "cell_type": "code",
   "execution_count": 25,
   "metadata": {},
   "outputs": [
    {
     "data": {
      "text/plain": [
       "AUDIO_EXP          53561.946966\n",
       "DVS_EXP             9173.959286\n",
       "EXPRESS_EXP            0.002452\n",
       "GIFT CARDS_EXP         0.000000\n",
       "HOME INS_EXP        4272.063539\n",
       "IMAGING_EXP        64874.396736\n",
       "INTABGIBLE_EXP         4.709039\n",
       "MAJORS_EXP         39688.873668\n",
       "MOBILE_EXP         22267.333947\n",
       "MUSIC_EXP           7871.469586\n",
       "OTHER_EXP             45.977035\n",
       "P*S*T_EXP          14961.995540\n",
       "PC HDWR_EXP       431757.614766\n",
       "TELEVISION_EXP    387973.599713\n",
       "VIDEO HDWR_EXP     13382.184235\n",
       "WIRELESS_EXP        5730.101950\n",
       "dtype: float64"
      ]
     },
     "execution_count": 25,
     "metadata": {},
     "output_type": "execute_result"
    }
   ],
   "source": [
    "df_e.var()"
   ]
  },
  {
   "cell_type": "markdown",
   "metadata": {},
   "source": [
    "\"GIFT CARDS_EXP\" column variance is equal to zero. So I drop this column from both data frames."
   ]
  },
  {
   "cell_type": "code",
   "execution_count": 26,
   "metadata": {},
   "outputs": [],
   "source": [
    "df_e.drop(columns = ['GIFT CARDS_EXP'], inplace = True)"
   ]
  },
  {
   "cell_type": "code",
   "execution_count": 27,
   "metadata": {},
   "outputs": [],
   "source": [
    "df_q.drop(columns = ['GIFT CARDS_QNT'], inplace = True)"
   ]
  },
  {
   "cell_type": "markdown",
   "metadata": {},
   "source": [
    "Now let's check summation results by columns, to see whether there are some other columns we might consider to drop."
   ]
  },
  {
   "cell_type": "code",
   "execution_count": 28,
   "metadata": {},
   "outputs": [
    {
     "data": {
      "text/plain": [
       "AUDIO_QNT         20055\n",
       "DVS_QNT            2464\n",
       "EXPRESS_QNT           1\n",
       "HOME INS_QNT        320\n",
       "IMAGING_QNT        9181\n",
       "INTABGIBLE_QNT      103\n",
       "MAJORS_QNT         4143\n",
       "MOBILE_QNT        12549\n",
       "MUSIC_QNT         13184\n",
       "OTHER_QNT          1034\n",
       "P*S*T_QNT         21154\n",
       "PC HDWR_QNT       11136\n",
       "TELEVISION_QNT    11793\n",
       "VIDEO HDWR_QNT     8897\n",
       "WIRELESS_QNT       3449\n",
       "dtype: int64"
      ]
     },
     "execution_count": 28,
     "metadata": {},
     "output_type": "execute_result"
    }
   ],
   "source": [
    "df_q.sum()"
   ]
  },
  {
   "cell_type": "code",
   "execution_count": 29,
   "metadata": {},
   "outputs": [
    {
     "data": {
      "text/plain": [
       "AUDIO_EXP         1736057.29\n",
       "DVS_EXP            336950.60\n",
       "EXPRESS_EXP             6.99\n",
       "HOME INS_EXP        92313.65\n",
       "IMAGING_EXP       1724541.20\n",
       "INTABGIBLE_EXP       1021.99\n",
       "MAJORS_EXP         772050.63\n",
       "MOBILE_EXP         896364.91\n",
       "MUSIC_EXP          512958.67\n",
       "OTHER_EXP            6604.05\n",
       "P*S*T_EXP         1042523.09\n",
       "PC HDWR_EXP       5109919.40\n",
       "TELEVISION_EXP    4503511.48\n",
       "VIDEO HDWR_EXP     951183.67\n",
       "WIRELESS_EXP       348179.16\n",
       "dtype: float64"
      ]
     },
     "execution_count": 29,
     "metadata": {},
     "output_type": "execute_result"
    }
   ],
   "source": [
    "df_e.sum()"
   ]
  },
  {
   "cell_type": "markdown",
   "metadata": {},
   "source": [
    "Among expenditure columns \"EXPRESS_EXP\", \"INTABGIBLE_EXP\" and \"OTHER_EXP\" provide too little information. Among quantity columns: \"EXPRESS_QNT\", \"HOME INS_QNT\"(quantity is small, though it is much money, so I keep it), \"INTABGIBLE_QNT\" and \"OTHER_QNT\" provide too little information. So I disided to drop them."
   ]
  },
  {
   "cell_type": "code",
   "execution_count": 30,
   "metadata": {},
   "outputs": [],
   "source": [
    "df_e.drop(columns = ['EXPRESS_EXP', 'INTABGIBLE_EXP', 'OTHER_EXP'], inplace = True)"
   ]
  },
  {
   "cell_type": "code",
   "execution_count": 31,
   "metadata": {},
   "outputs": [],
   "source": [
    "df_q.drop(columns = ['EXPRESS_QNT', 'INTABGIBLE_QNT', 'OTHER_QNT'], inplace = True)"
   ]
  },
  {
   "cell_type": "markdown",
   "metadata": {},
   "source": [
    "## Data normalization"
   ]
  },
  {
   "cell_type": "markdown",
   "metadata": {},
   "source": [
    "I normalize variables, using formula below:"
   ]
  },
  {
   "cell_type": "markdown",
   "metadata": {},
   "source": [
    "$$\\frac{x - µ_x}{σ_x}$$"
   ]
  },
  {
   "cell_type": "code",
   "execution_count": 32,
   "metadata": {},
   "outputs": [],
   "source": [
    "scaler = preprocessing.StandardScaler()"
   ]
  },
  {
   "cell_type": "code",
   "execution_count": 33,
   "metadata": {},
   "outputs": [],
   "source": [
    "df_e = pd.DataFrame(scaler.fit_transform(df_e),columns = df_e.columns, index = df_e.index)"
   ]
  },
  {
   "cell_type": "code",
   "execution_count": 34,
   "metadata": {},
   "outputs": [],
   "source": [
    "df_q = pd.DataFrame(scaler.fit_transform(df_q),columns = df_q.columns, index = df_q.index)"
   ]
  },
  {
   "cell_type": "code",
   "execution_count": 35,
   "metadata": {},
   "outputs": [],
   "source": [
    "#df_q = (df_q - df_q.mean())/df_q.std()\n",
    "#df_e = (df_e - df_e.mean())/df_e.std()s"
   ]
  },
  {
   "cell_type": "markdown",
   "metadata": {},
   "source": [
    "## Verification:"
   ]
  },
  {
   "cell_type": "markdown",
   "metadata": {},
   "source": [
    "After normalization variance should be 1, and mean - 0."
   ]
  },
  {
   "cell_type": "code",
   "execution_count": 36,
   "metadata": {},
   "outputs": [
    {
     "name": "stdout",
     "output_type": "stream",
     "text": [
      "Variances:\n"
     ]
    },
    {
     "data": {
      "text/plain": [
       "AUDIO_EXP         1.00005\n",
       "DVS_EXP           1.00005\n",
       "HOME INS_EXP      1.00005\n",
       "IMAGING_EXP       1.00005\n",
       "MAJORS_EXP        1.00005\n",
       "MOBILE_EXP        1.00005\n",
       "MUSIC_EXP         1.00005\n",
       "P*S*T_EXP         1.00005\n",
       "PC HDWR_EXP       1.00005\n",
       "TELEVISION_EXP    1.00005\n",
       "VIDEO HDWR_EXP    1.00005\n",
       "WIRELESS_EXP      1.00005\n",
       "dtype: float64"
      ]
     },
     "execution_count": 36,
     "metadata": {},
     "output_type": "execute_result"
    }
   ],
   "source": [
    "print(\"Variances:\")\n",
    "df_e.var()"
   ]
  },
  {
   "cell_type": "code",
   "execution_count": 37,
   "metadata": {},
   "outputs": [
    {
     "name": "stdout",
     "output_type": "stream",
     "text": [
      "Means:\n"
     ]
    },
    {
     "data": {
      "text/plain": [
       "AUDIO_EXP        -2.509371e-15\n",
       "DVS_EXP          -5.857749e-16\n",
       "HOME INS_EXP     -6.398127e-16\n",
       "IMAGING_EXP       1.238709e-15\n",
       "MAJORS_EXP       -2.732931e-15\n",
       "MOBILE_EXP        6.785490e-15\n",
       "MUSIC_EXP        -3.536832e-15\n",
       "P*S*T_EXP         2.568386e-16\n",
       "PC HDWR_EXP       3.696046e-16\n",
       "TELEVISION_EXP   -3.437575e-15\n",
       "VIDEO HDWR_EXP   -1.992803e-15\n",
       "WIRELESS_EXP     -1.936868e-15\n",
       "dtype: float64"
      ]
     },
     "execution_count": 37,
     "metadata": {},
     "output_type": "execute_result"
    }
   ],
   "source": [
    "print(\"Means:\")\n",
    "df_e.mean()"
   ]
  },
  {
   "cell_type": "code",
   "execution_count": 38,
   "metadata": {},
   "outputs": [
    {
     "name": "stdout",
     "output_type": "stream",
     "text": [
      "Variances:\n"
     ]
    },
    {
     "data": {
      "text/plain": [
       "AUDIO_QNT         1.00005\n",
       "DVS_QNT           1.00005\n",
       "HOME INS_QNT      1.00005\n",
       "IMAGING_QNT       1.00005\n",
       "MAJORS_QNT        1.00005\n",
       "MOBILE_QNT        1.00005\n",
       "MUSIC_QNT         1.00005\n",
       "P*S*T_QNT         1.00005\n",
       "PC HDWR_QNT       1.00005\n",
       "TELEVISION_QNT    1.00005\n",
       "VIDEO HDWR_QNT    1.00005\n",
       "WIRELESS_QNT      1.00005\n",
       "dtype: float64"
      ]
     },
     "execution_count": 38,
     "metadata": {},
     "output_type": "execute_result"
    }
   ],
   "source": [
    "print(\"Variances:\")\n",
    "df_q.var()"
   ]
  },
  {
   "cell_type": "code",
   "execution_count": 39,
   "metadata": {},
   "outputs": [
    {
     "name": "stdout",
     "output_type": "stream",
     "text": [
      "Means:\n"
     ]
    },
    {
     "data": {
      "text/plain": [
       "AUDIO_QNT         7.195838e-17\n",
       "DVS_QNT          -3.420384e-16\n",
       "HOME INS_QNT      6.134762e-16\n",
       "IMAGING_QNT       2.667566e-15\n",
       "MAJORS_QNT       -5.873152e-16\n",
       "MOBILE_QNT        7.340563e-15\n",
       "MUSIC_QNT        -3.069889e-15\n",
       "P*S*T_QNT         6.312952e-16\n",
       "PC HDWR_QNT       1.440844e-15\n",
       "TELEVISION_QNT    2.461052e-15\n",
       "VIDEO HDWR_QNT   -4.303866e-15\n",
       "WIRELESS_QNT      2.910779e-15\n",
       "dtype: float64"
      ]
     },
     "execution_count": 39,
     "metadata": {},
     "output_type": "execute_result"
    }
   ],
   "source": [
    "print(\"Means:\")\n",
    "df_q.mean()"
   ]
  },
  {
   "cell_type": "markdown",
   "metadata": {},
   "source": [
    "It does not show means as 0s, this is specifics of computer calculations. Those numbers are very close to 0s. You can see the same specifics of computer calculations at variances. I.e. they are 1.00005."
   ]
  },
  {
   "cell_type": "markdown",
   "metadata": {},
   "source": [
    "However, **data was normalized.**"
   ]
  },
  {
   "cell_type": "markdown",
   "metadata": {},
   "source": [
    "## Clustering"
   ]
  },
  {
   "cell_type": "markdown",
   "metadata": {},
   "source": [
    "Let's cluster data, using both sets of basis variables. I will try different clustering algorithms with different number of clusters."
   ]
  },
  {
   "cell_type": "code",
   "execution_count": 40,
   "metadata": {},
   "outputs": [],
   "source": [
    "def find_best_alg(df, from_, to_):\n",
    "    bestSil = -1\n",
    "    for k in range(from_,to_+1):\n",
    "        print ('k= %d ' % k)\n",
    "        clus = [KMeans(n_clusters=k), Birch(n_clusters=k), AgglomerativeClustering(n_clusters=k)]\n",
    "        for cl in clus:\n",
    "            res = cl.fit(df)\n",
    "            sil = metrics.silhouette_score(df, res.labels_)\n",
    "            print (str(cl)[:6] + ' with k=' +str(k) + \": \" + str(round(sil,4)))\n",
    "            if (sil > bestSil):\n",
    "                bestSil = sil\n",
    "                bestCl = cl\n",
    "                bestK = k\n",
    "    print('***********************************************')\n",
    "    print ('Best algorithm is... ' + str(bestCl)[:6] + '  with k=' +str(bestK) )\n",
    "    print('**********************')\n",
    "    print ('With Silhouette Score ' + str(bestSil))"
   ]
  },
  {
   "cell_type": "code",
   "execution_count": 41,
   "metadata": {},
   "outputs": [
    {
     "name": "stdout",
     "output_type": "stream",
     "text": [
      "k= 2 \n",
      "KMeans with k=2: 0.5785\n",
      "Birch( with k=2: 0.6739\n",
      "Agglom with k=2: 0.6379\n",
      "k= 3 \n",
      "KMeans with k=3: 0.5633\n",
      "Birch( with k=3: 0.6409\n",
      "Agglom with k=3: 0.3754\n",
      "k= 4 \n",
      "KMeans with k=4: 0.5217\n",
      "Birch( with k=4: 0.645\n",
      "Agglom with k=4: 0.3874\n",
      "k= 5 \n",
      "KMeans with k=5: 0.5004\n",
      "Birch( with k=5: 0.5106\n",
      "Agglom with k=5: 0.3876\n",
      "***********************************************\n",
      "Best algorithm is... Birch(  with k=2\n",
      "**********************\n",
      "With Silhouette Score 0.6738746416070719\n"
     ]
    }
   ],
   "source": [
    "find_best_alg(df_q, 2, 5)"
   ]
  },
  {
   "cell_type": "code",
   "execution_count": 42,
   "metadata": {},
   "outputs": [
    {
     "name": "stdout",
     "output_type": "stream",
     "text": [
      "k= 2 \n",
      "KMeans with k=2: 0.5968\n",
      "Birch( with k=2: 0.9486\n",
      "Agglom with k=2: 0.3682\n",
      "k= 3 \n",
      "KMeans with k=3: 0.5676\n",
      "Birch( with k=3: 0.6766\n",
      "Agglom with k=3: 0.3064\n",
      "k= 4 \n",
      "KMeans with k=4: 0.5077\n",
      "Birch( with k=4: 0.387\n",
      "Agglom with k=4: 0.3195\n",
      "k= 5 \n",
      "KMeans with k=5: 0.4393\n",
      "Birch( with k=5: 0.397\n",
      "Agglom with k=5: 0.3208\n",
      "***********************************************\n",
      "Best algorithm is... Birch(  with k=2\n",
      "**********************\n",
      "With Silhouette Score 0.9486433774181372\n"
     ]
    }
   ],
   "source": [
    "find_best_alg(df_e, 2, 5)"
   ]
  },
  {
   "cell_type": "code",
   "execution_count": 43,
   "metadata": {},
   "outputs": [],
   "source": [
    "clu = Birch(n_clusters = 2)"
   ]
  },
  {
   "cell_type": "code",
   "execution_count": 44,
   "metadata": {},
   "outputs": [
    {
     "data": {
      "text/plain": [
       "Birch(branching_factor=50, compute_labels=True, copy=True, n_clusters=2,\n",
       "      threshold=0.5)"
      ]
     },
     "execution_count": 44,
     "metadata": {},
     "output_type": "execute_result"
    }
   ],
   "source": [
    "clu.fit(df_e)"
   ]
  },
  {
   "cell_type": "code",
   "execution_count": 45,
   "metadata": {},
   "outputs": [],
   "source": [
    "df_e['segment'] = clu.labels_"
   ]
  },
  {
   "cell_type": "code",
   "execution_count": 46,
   "metadata": {},
   "outputs": [
    {
     "data": {
      "text/plain": [
       "segment\n",
       "0    19928\n",
       "1        2\n",
       "Name: AUDIO_EXP, dtype: int64"
      ]
     },
     "execution_count": 46,
     "metadata": {},
     "output_type": "execute_result"
    }
   ],
   "source": [
    "df_e.groupby('segment').AUDIO_EXP.count()"
   ]
  },
  {
   "cell_type": "markdown",
   "metadata": {},
   "source": [
    "It has enormous silhouette score (~0.9486). But this segmentation does not make sense, because there is just 2 people in the segment."
   ]
  },
  {
   "cell_type": "code",
   "execution_count": 47,
   "metadata": {},
   "outputs": [],
   "source": [
    "df_e.drop(columns = ['segment'], inplace = True)"
   ]
  },
  {
   "cell_type": "markdown",
   "metadata": {},
   "source": [
    "### Let's try KMeans based on quantity basis set."
   ]
  },
  {
   "cell_type": "code",
   "execution_count": 48,
   "metadata": {},
   "outputs": [],
   "source": [
    "clu = KMeans(n_clusters = 2)"
   ]
  },
  {
   "cell_type": "code",
   "execution_count": 49,
   "metadata": {},
   "outputs": [
    {
     "data": {
      "text/plain": [
       "KMeans(algorithm='auto', copy_x=True, init='k-means++', max_iter=300,\n",
       "       n_clusters=2, n_init=10, n_jobs=None, precompute_distances='auto',\n",
       "       random_state=None, tol=0.0001, verbose=0)"
      ]
     },
     "execution_count": 49,
     "metadata": {},
     "output_type": "execute_result"
    }
   ],
   "source": [
    "clu.fit(df_q)"
   ]
  },
  {
   "cell_type": "code",
   "execution_count": 50,
   "metadata": {},
   "outputs": [],
   "source": [
    "df_q['segment'] = clu.labels_"
   ]
  },
  {
   "cell_type": "code",
   "execution_count": 51,
   "metadata": {},
   "outputs": [
    {
     "data": {
      "text/plain": [
       "segment\n",
       "0    17993\n",
       "1     1937\n",
       "Name: AUDIO_QNT, dtype: int64"
      ]
     },
     "execution_count": 51,
     "metadata": {},
     "output_type": "execute_result"
    }
   ],
   "source": [
    "df_q.groupby('segment').AUDIO_QNT.count()"
   ]
  },
  {
   "cell_type": "code",
   "execution_count": 52,
   "metadata": {},
   "outputs": [
    {
     "data": {
      "text/html": [
       "<div>\n",
       "<style scoped>\n",
       "    .dataframe tbody tr th:only-of-type {\n",
       "        vertical-align: middle;\n",
       "    }\n",
       "\n",
       "    .dataframe tbody tr th {\n",
       "        vertical-align: top;\n",
       "    }\n",
       "\n",
       "    .dataframe thead th {\n",
       "        text-align: right;\n",
       "    }\n",
       "</style>\n",
       "<table border=\"1\" class=\"dataframe\">\n",
       "  <thead>\n",
       "    <tr style=\"text-align: right;\">\n",
       "      <th></th>\n",
       "      <th>AUDIO_QNT</th>\n",
       "      <th>DVS_QNT</th>\n",
       "      <th>HOME INS_QNT</th>\n",
       "      <th>IMAGING_QNT</th>\n",
       "      <th>MAJORS_QNT</th>\n",
       "      <th>MOBILE_QNT</th>\n",
       "      <th>MUSIC_QNT</th>\n",
       "      <th>P*S*T_QNT</th>\n",
       "      <th>PC HDWR_QNT</th>\n",
       "      <th>TELEVISION_QNT</th>\n",
       "      <th>VIDEO HDWR_QNT</th>\n",
       "      <th>WIRELESS_QNT</th>\n",
       "    </tr>\n",
       "    <tr>\n",
       "      <th>segment</th>\n",
       "      <th></th>\n",
       "      <th></th>\n",
       "      <th></th>\n",
       "      <th></th>\n",
       "      <th></th>\n",
       "      <th></th>\n",
       "      <th></th>\n",
       "      <th></th>\n",
       "      <th></th>\n",
       "      <th></th>\n",
       "      <th></th>\n",
       "      <th></th>\n",
       "    </tr>\n",
       "  </thead>\n",
       "  <tbody>\n",
       "    <tr>\n",
       "      <th>0</th>\n",
       "      <td>-0.067067</td>\n",
       "      <td>-0.063302</td>\n",
       "      <td>-0.050528</td>\n",
       "      <td>-0.166452</td>\n",
       "      <td>-0.123198</td>\n",
       "      <td>-0.077811</td>\n",
       "      <td>-0.107518</td>\n",
       "      <td>-0.088202</td>\n",
       "      <td>-0.088080</td>\n",
       "      <td>-0.128776</td>\n",
       "      <td>-0.148256</td>\n",
       "      <td>-0.073669</td>\n",
       "    </tr>\n",
       "    <tr>\n",
       "      <th>1</th>\n",
       "      <td>0.622993</td>\n",
       "      <td>0.588016</td>\n",
       "      <td>0.469361</td>\n",
       "      <td>1.546188</td>\n",
       "      <td>1.144400</td>\n",
       "      <td>0.722796</td>\n",
       "      <td>0.998744</td>\n",
       "      <td>0.819317</td>\n",
       "      <td>0.818186</td>\n",
       "      <td>1.196210</td>\n",
       "      <td>1.377161</td>\n",
       "      <td>0.684324</td>\n",
       "    </tr>\n",
       "  </tbody>\n",
       "</table>\n",
       "</div>"
      ],
      "text/plain": [
       "         AUDIO_QNT   DVS_QNT  HOME INS_QNT  IMAGING_QNT  MAJORS_QNT  \\\n",
       "segment                                                               \n",
       "0        -0.067067 -0.063302     -0.050528    -0.166452   -0.123198   \n",
       "1         0.622993  0.588016      0.469361     1.546188    1.144400   \n",
       "\n",
       "         MOBILE_QNT  MUSIC_QNT  P*S*T_QNT  PC HDWR_QNT  TELEVISION_QNT  \\\n",
       "segment                                                                  \n",
       "0         -0.077811  -0.107518  -0.088202    -0.088080       -0.128776   \n",
       "1          0.722796   0.998744   0.819317     0.818186        1.196210   \n",
       "\n",
       "         VIDEO HDWR_QNT  WIRELESS_QNT  \n",
       "segment                                \n",
       "0             -0.148256     -0.073669  \n",
       "1              1.377161      0.684324  "
      ]
     },
     "execution_count": 52,
     "metadata": {},
     "output_type": "execute_result"
    }
   ],
   "source": [
    "df_q.groupby('segment').mean()"
   ]
  },
  {
   "cell_type": "code",
   "execution_count": 53,
   "metadata": {},
   "outputs": [],
   "source": [
    "df_q.drop(columns = ['segment'], inplace = True)"
   ]
  },
  {
   "cell_type": "markdown",
   "metadata": {},
   "source": [
    "Here we can see that using 2 segments does not really help. It simply devides customers to those who buy below the average and those who buy above the average."
   ]
  },
  {
   "cell_type": "markdown",
   "metadata": {},
   "source": [
    "### Let's try 3 segments, Birch algorithm, expenditures basis variables."
   ]
  },
  {
   "cell_type": "code",
   "execution_count": 54,
   "metadata": {},
   "outputs": [],
   "source": [
    "clu = Birch(n_clusters = 3)"
   ]
  },
  {
   "cell_type": "code",
   "execution_count": 55,
   "metadata": {},
   "outputs": [
    {
     "data": {
      "text/plain": [
       "Birch(branching_factor=50, compute_labels=True, copy=True, n_clusters=3,\n",
       "      threshold=0.5)"
      ]
     },
     "execution_count": 55,
     "metadata": {},
     "output_type": "execute_result"
    }
   ],
   "source": [
    "clu.fit(df_e)"
   ]
  },
  {
   "cell_type": "code",
   "execution_count": 56,
   "metadata": {},
   "outputs": [],
   "source": [
    "df_e['segment'] = clu.labels_"
   ]
  },
  {
   "cell_type": "code",
   "execution_count": 57,
   "metadata": {},
   "outputs": [
    {
     "data": {
      "text/plain": [
       "segment\n",
       "0    19829\n",
       "1        2\n",
       "2       99\n",
       "Name: AUDIO_EXP, dtype: int64"
      ]
     },
     "execution_count": 57,
     "metadata": {},
     "output_type": "execute_result"
    }
   ],
   "source": [
    "df_e.groupby('segment').AUDIO_EXP.count()"
   ]
  },
  {
   "cell_type": "code",
   "execution_count": 58,
   "metadata": {},
   "outputs": [
    {
     "data": {
      "text/html": [
       "<div>\n",
       "<style scoped>\n",
       "    .dataframe tbody tr th:only-of-type {\n",
       "        vertical-align: middle;\n",
       "    }\n",
       "\n",
       "    .dataframe tbody tr th {\n",
       "        vertical-align: top;\n",
       "    }\n",
       "\n",
       "    .dataframe thead th {\n",
       "        text-align: right;\n",
       "    }\n",
       "</style>\n",
       "<table border=\"1\" class=\"dataframe\">\n",
       "  <thead>\n",
       "    <tr style=\"text-align: right;\">\n",
       "      <th></th>\n",
       "      <th>AUDIO_EXP</th>\n",
       "      <th>DVS_EXP</th>\n",
       "      <th>HOME INS_EXP</th>\n",
       "      <th>IMAGING_EXP</th>\n",
       "      <th>MAJORS_EXP</th>\n",
       "      <th>MOBILE_EXP</th>\n",
       "      <th>MUSIC_EXP</th>\n",
       "      <th>P*S*T_EXP</th>\n",
       "      <th>PC HDWR_EXP</th>\n",
       "      <th>TELEVISION_EXP</th>\n",
       "      <th>VIDEO HDWR_EXP</th>\n",
       "      <th>WIRELESS_EXP</th>\n",
       "    </tr>\n",
       "    <tr>\n",
       "      <th>segment</th>\n",
       "      <th></th>\n",
       "      <th></th>\n",
       "      <th></th>\n",
       "      <th></th>\n",
       "      <th></th>\n",
       "      <th></th>\n",
       "      <th></th>\n",
       "      <th></th>\n",
       "      <th></th>\n",
       "      <th></th>\n",
       "      <th></th>\n",
       "      <th></th>\n",
       "    </tr>\n",
       "  </thead>\n",
       "  <tbody>\n",
       "    <tr>\n",
       "      <th>0</th>\n",
       "      <td>-0.000763</td>\n",
       "      <td>-0.000884</td>\n",
       "      <td>-0.006806</td>\n",
       "      <td>-0.000408</td>\n",
       "      <td>-0.048176</td>\n",
       "      <td>-0.000451</td>\n",
       "      <td>-0.000469</td>\n",
       "      <td>-0.001471</td>\n",
       "      <td>-0.001443</td>\n",
       "      <td>-0.000882</td>\n",
       "      <td>-0.001983</td>\n",
       "      <td>-0.002859</td>\n",
       "    </tr>\n",
       "    <tr>\n",
       "      <th>1</th>\n",
       "      <td>-0.376391</td>\n",
       "      <td>-0.176519</td>\n",
       "      <td>70.986640</td>\n",
       "      <td>-0.339735</td>\n",
       "      <td>-0.194453</td>\n",
       "      <td>-0.301408</td>\n",
       "      <td>0.245235</td>\n",
       "      <td>0.128199</td>\n",
       "      <td>6.875337</td>\n",
       "      <td>-0.362789</td>\n",
       "      <td>-0.412576</td>\n",
       "      <td>-0.230794</td>\n",
       "    </tr>\n",
       "    <tr>\n",
       "      <th>2</th>\n",
       "      <td>0.160388</td>\n",
       "      <td>0.180661</td>\n",
       "      <td>-0.070868</td>\n",
       "      <td>0.088585</td>\n",
       "      <td>9.653210</td>\n",
       "      <td>0.096335</td>\n",
       "      <td>0.088942</td>\n",
       "      <td>0.292011</td>\n",
       "      <td>0.150094</td>\n",
       "      <td>0.183960</td>\n",
       "      <td>0.405487</td>\n",
       "      <td>0.577374</td>\n",
       "    </tr>\n",
       "  </tbody>\n",
       "</table>\n",
       "</div>"
      ],
      "text/plain": [
       "         AUDIO_EXP   DVS_EXP  HOME INS_EXP  IMAGING_EXP  MAJORS_EXP  \\\n",
       "segment                                                               \n",
       "0        -0.000763 -0.000884     -0.006806    -0.000408   -0.048176   \n",
       "1        -0.376391 -0.176519     70.986640    -0.339735   -0.194453   \n",
       "2         0.160388  0.180661     -0.070868     0.088585    9.653210   \n",
       "\n",
       "         MOBILE_EXP  MUSIC_EXP  P*S*T_EXP  PC HDWR_EXP  TELEVISION_EXP  \\\n",
       "segment                                                                  \n",
       "0         -0.000451  -0.000469  -0.001471    -0.001443       -0.000882   \n",
       "1         -0.301408   0.245235   0.128199     6.875337       -0.362789   \n",
       "2          0.096335   0.088942   0.292011     0.150094        0.183960   \n",
       "\n",
       "         VIDEO HDWR_EXP  WIRELESS_EXP  \n",
       "segment                                \n",
       "0             -0.001983     -0.002859  \n",
       "1             -0.412576     -0.230794  \n",
       "2              0.405487      0.577374  "
      ]
     },
     "execution_count": 58,
     "metadata": {},
     "output_type": "execute_result"
    }
   ],
   "source": [
    "df_e.groupby('segment').mean()"
   ]
  },
  {
   "cell_type": "code",
   "execution_count": 59,
   "metadata": {},
   "outputs": [],
   "source": [
    "df_e.drop(columns = ['segment'], inplace = True)"
   ]
  },
  {
   "cell_type": "markdown",
   "metadata": {},
   "source": [
    "2 out of 3 segments are too small."
   ]
  },
  {
   "cell_type": "markdown",
   "metadata": {},
   "source": [
    "### I went through the similar process with the rest of the algorithms and number of clusters. In my opinion this is the most optimal in terms of silhouette score and meaningful in terms of interpritation and segments' sizes result."
   ]
  },
  {
   "cell_type": "code",
   "execution_count": 60,
   "metadata": {},
   "outputs": [],
   "source": [
    "clu = KMeans(n_clusters = 3)"
   ]
  },
  {
   "cell_type": "code",
   "execution_count": 61,
   "metadata": {},
   "outputs": [
    {
     "data": {
      "text/plain": [
       "KMeans(algorithm='auto', copy_x=True, init='k-means++', max_iter=300,\n",
       "       n_clusters=3, n_init=10, n_jobs=None, precompute_distances='auto',\n",
       "       random_state=None, tol=0.0001, verbose=0)"
      ]
     },
     "execution_count": 61,
     "metadata": {},
     "output_type": "execute_result"
    }
   ],
   "source": [
    "clu.fit(df_e)"
   ]
  },
  {
   "cell_type": "code",
   "execution_count": 62,
   "metadata": {},
   "outputs": [],
   "source": [
    "df_e['segment'] = clu.labels_"
   ]
  },
  {
   "cell_type": "code",
   "execution_count": 63,
   "metadata": {},
   "outputs": [
    {
     "data": {
      "text/plain": [
       "segment\n",
       "0    17849\n",
       "1      431\n",
       "2     1650\n",
       "Name: AUDIO_EXP, dtype: int64"
      ]
     },
     "execution_count": 63,
     "metadata": {},
     "output_type": "execute_result"
    }
   ],
   "source": [
    "df_e.groupby('segment').AUDIO_EXP.count()"
   ]
  },
  {
   "cell_type": "code",
   "execution_count": 64,
   "metadata": {},
   "outputs": [
    {
     "data": {
      "text/html": [
       "<div>\n",
       "<style scoped>\n",
       "    .dataframe tbody tr th:only-of-type {\n",
       "        vertical-align: middle;\n",
       "    }\n",
       "\n",
       "    .dataframe tbody tr th {\n",
       "        vertical-align: top;\n",
       "    }\n",
       "\n",
       "    .dataframe thead th {\n",
       "        text-align: right;\n",
       "    }\n",
       "</style>\n",
       "<table border=\"1\" class=\"dataframe\">\n",
       "  <thead>\n",
       "    <tr style=\"text-align: right;\">\n",
       "      <th></th>\n",
       "      <th>AUDIO_EXP</th>\n",
       "      <th>DVS_EXP</th>\n",
       "      <th>HOME INS_EXP</th>\n",
       "      <th>IMAGING_EXP</th>\n",
       "      <th>MAJORS_EXP</th>\n",
       "      <th>MOBILE_EXP</th>\n",
       "      <th>MUSIC_EXP</th>\n",
       "      <th>P*S*T_EXP</th>\n",
       "      <th>PC HDWR_EXP</th>\n",
       "      <th>TELEVISION_EXP</th>\n",
       "      <th>VIDEO HDWR_EXP</th>\n",
       "      <th>WIRELESS_EXP</th>\n",
       "    </tr>\n",
       "    <tr>\n",
       "      <th>segment</th>\n",
       "      <th></th>\n",
       "      <th></th>\n",
       "      <th></th>\n",
       "      <th></th>\n",
       "      <th></th>\n",
       "      <th></th>\n",
       "      <th></th>\n",
       "      <th></th>\n",
       "      <th></th>\n",
       "      <th></th>\n",
       "      <th></th>\n",
       "      <th></th>\n",
       "    </tr>\n",
       "  </thead>\n",
       "  <tbody>\n",
       "    <tr>\n",
       "      <th>0</th>\n",
       "      <td>-0.123251</td>\n",
       "      <td>-0.133195</td>\n",
       "      <td>-0.029548</td>\n",
       "      <td>-0.129651</td>\n",
       "      <td>-0.078704</td>\n",
       "      <td>-0.076596</td>\n",
       "      <td>-0.120138</td>\n",
       "      <td>-0.131122</td>\n",
       "      <td>-0.094014</td>\n",
       "      <td>-0.109995</td>\n",
       "      <td>-0.122836</td>\n",
       "      <td>-0.055380</td>\n",
       "    </tr>\n",
       "    <tr>\n",
       "      <th>1</th>\n",
       "      <td>0.510998</td>\n",
       "      <td>5.677993</td>\n",
       "      <td>0.127630</td>\n",
       "      <td>0.091906</td>\n",
       "      <td>0.204904</td>\n",
       "      <td>0.140062</td>\n",
       "      <td>0.136515</td>\n",
       "      <td>0.138728</td>\n",
       "      <td>0.141890</td>\n",
       "      <td>0.550800</td>\n",
       "      <td>0.305941</td>\n",
       "      <td>-0.050010</td>\n",
       "    </tr>\n",
       "    <tr>\n",
       "      <th>2</th>\n",
       "      <td>1.199800</td>\n",
       "      <td>-0.042310</td>\n",
       "      <td>0.286302</td>\n",
       "      <td>1.378502</td>\n",
       "      <td>0.797862</td>\n",
       "      <td>0.791995</td>\n",
       "      <td>1.263946</td>\n",
       "      <td>1.382186</td>\n",
       "      <td>0.979945</td>\n",
       "      <td>1.045999</td>\n",
       "      <td>1.248873</td>\n",
       "      <td>0.612139</td>\n",
       "    </tr>\n",
       "  </tbody>\n",
       "</table>\n",
       "</div>"
      ],
      "text/plain": [
       "         AUDIO_EXP   DVS_EXP  HOME INS_EXP  IMAGING_EXP  MAJORS_EXP  \\\n",
       "segment                                                               \n",
       "0        -0.123251 -0.133195     -0.029548    -0.129651   -0.078704   \n",
       "1         0.510998  5.677993      0.127630     0.091906    0.204904   \n",
       "2         1.199800 -0.042310      0.286302     1.378502    0.797862   \n",
       "\n",
       "         MOBILE_EXP  MUSIC_EXP  P*S*T_EXP  PC HDWR_EXP  TELEVISION_EXP  \\\n",
       "segment                                                                  \n",
       "0         -0.076596  -0.120138  -0.131122    -0.094014       -0.109995   \n",
       "1          0.140062   0.136515   0.138728     0.141890        0.550800   \n",
       "2          0.791995   1.263946   1.382186     0.979945        1.045999   \n",
       "\n",
       "         VIDEO HDWR_EXP  WIRELESS_EXP  \n",
       "segment                                \n",
       "0             -0.122836     -0.055380  \n",
       "1              0.305941     -0.050010  \n",
       "2              1.248873      0.612139  "
      ]
     },
     "execution_count": 64,
     "metadata": {},
     "output_type": "execute_result"
    }
   ],
   "source": [
    "df_e.groupby('segment').mean()"
   ]
  },
  {
   "cell_type": "markdown",
   "metadata": {},
   "source": [
    "**We can see here, that the biggest segment buy below the mean in every category. 2 other segments are different.**"
   ]
  },
  {
   "cell_type": "markdown",
   "metadata": {},
   "source": [
    "## Merge segmentation results with demographic data."
   ]
  },
  {
   "cell_type": "code",
   "execution_count": 65,
   "metadata": {},
   "outputs": [],
   "source": [
    "df_dem = df_dem.merge(df_e[['segment']], left_index = True, right_index = True)"
   ]
  },
  {
   "cell_type": "code",
   "execution_count": 66,
   "metadata": {},
   "outputs": [
    {
     "data": {
      "text/html": [
       "<div>\n",
       "<style scoped>\n",
       "    .dataframe tbody tr th:only-of-type {\n",
       "        vertical-align: middle;\n",
       "    }\n",
       "\n",
       "    .dataframe tbody tr th {\n",
       "        vertical-align: top;\n",
       "    }\n",
       "\n",
       "    .dataframe thead th {\n",
       "        text-align: right;\n",
       "    }\n",
       "</style>\n",
       "<table border=\"1\" class=\"dataframe\">\n",
       "  <thead>\n",
       "    <tr style=\"text-align: right;\">\n",
       "      <th></th>\n",
       "      <th>Age_H.Head</th>\n",
       "      <th>Income</th>\n",
       "      <th>n_kids</th>\n",
       "      <th>GENDER_H.Head_F</th>\n",
       "      <th>GENDER_H.Head_M</th>\n",
       "      <th>GENDER_H.Head_U</th>\n",
       "    </tr>\n",
       "    <tr>\n",
       "      <th>segment</th>\n",
       "      <th></th>\n",
       "      <th></th>\n",
       "      <th></th>\n",
       "      <th></th>\n",
       "      <th></th>\n",
       "      <th></th>\n",
       "    </tr>\n",
       "  </thead>\n",
       "  <tbody>\n",
       "    <tr>\n",
       "      <th>0</th>\n",
       "      <td>48.404836</td>\n",
       "      <td>5.712608</td>\n",
       "      <td>0.454231</td>\n",
       "      <td>0.324905</td>\n",
       "      <td>0.531054</td>\n",
       "      <td>0.144041</td>\n",
       "    </tr>\n",
       "    <tr>\n",
       "      <th>1</th>\n",
       "      <td>49.115869</td>\n",
       "      <td>6.314861</td>\n",
       "      <td>0.523929</td>\n",
       "      <td>0.216625</td>\n",
       "      <td>0.664987</td>\n",
       "      <td>0.118388</td>\n",
       "    </tr>\n",
       "    <tr>\n",
       "      <th>2</th>\n",
       "      <td>48.324056</td>\n",
       "      <td>6.422134</td>\n",
       "      <td>0.546057</td>\n",
       "      <td>0.251160</td>\n",
       "      <td>0.595096</td>\n",
       "      <td>0.153744</td>\n",
       "    </tr>\n",
       "  </tbody>\n",
       "</table>\n",
       "</div>"
      ],
      "text/plain": [
       "         Age_H.Head    Income    n_kids  GENDER_H.Head_F  GENDER_H.Head_M  \\\n",
       "segment                                                                     \n",
       "0         48.404836  5.712608  0.454231         0.324905         0.531054   \n",
       "1         49.115869  6.314861  0.523929         0.216625         0.664987   \n",
       "2         48.324056  6.422134  0.546057         0.251160         0.595096   \n",
       "\n",
       "         GENDER_H.Head_U  \n",
       "segment                   \n",
       "0               0.144041  \n",
       "1               0.118388  \n",
       "2               0.153744  "
      ]
     },
     "execution_count": 66,
     "metadata": {},
     "output_type": "execute_result"
    }
   ],
   "source": [
    "df_dem.groupby('segment').mean()"
   ]
  },
  {
   "cell_type": "markdown",
   "metadata": {},
   "source": [
    "Our segments are similar in demographic variables."
   ]
  }
 ],
 "metadata": {
  "kernelspec": {
   "display_name": "Python 3",
   "language": "python",
   "name": "python3"
  },
  "language_info": {
   "codemirror_mode": {
    "name": "ipython",
    "version": 3
   },
   "file_extension": ".py",
   "mimetype": "text/x-python",
   "name": "python",
   "nbconvert_exporter": "python",
   "pygments_lexer": "ipython3",
   "version": "3.7.4"
  }
 },
 "nbformat": 4,
 "nbformat_minor": 2
}
